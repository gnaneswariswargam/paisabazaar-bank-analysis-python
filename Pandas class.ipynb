{
 "cells": [
  {
   "cell_type": "markdown",
   "id": "c9e4e8c9",
   "metadata": {},
   "source": [
    "NORMAL PANDAS "
   ]
  },
  {
   "cell_type": "markdown",
   "id": "274d5850",
   "metadata": {},
   "source": [
    "Pandas (Series Using Python Lists)"
   ]
  },
  {
   "cell_type": "code",
   "execution_count": 11,
   "id": "9d672dd8",
   "metadata": {},
   "outputs": [
    {
     "data": {
      "text/plain": [
       "0    11\n",
       "1    22\n",
       "2    33\n",
       "3    44\n",
       "4    55\n",
       "dtype: int64"
      ]
     },
     "execution_count": 11,
     "metadata": {},
     "output_type": "execute_result"
    }
   ],
   "source": [
    "import pandas as pd\n",
    "list1=[11,22,33,44,55]\n",
    "X=pd.Series(list1)\n",
    "X\n",
    "\n"
   ]
  },
  {
   "cell_type": "markdown",
   "id": "6cc1dbb7",
   "metadata": {},
   "source": [
    "PANDAS (series using list for different data types)"
   ]
  },
  {
   "cell_type": "code",
   "execution_count": 12,
   "id": "e97e86dd",
   "metadata": {},
   "outputs": [
    {
     "data": {
      "text/plain": [
       "0       11\n",
       "1     22.0\n",
       "2      667\n",
       "3      5.0\n",
       "4    Gnani\n",
       "dtype: object"
      ]
     },
     "execution_count": 12,
     "metadata": {},
     "output_type": "execute_result"
    }
   ],
   "source": [
    "list2=[11,22.0,667,5.00,'Gnani']\n",
    "X=pd.Series(list2)\n",
    "X"
   ]
  },
  {
   "cell_type": "markdown",
   "id": "d2ce9ae7",
   "metadata": {},
   "source": [
    "Pandas (Series using Tuple)"
   ]
  },
  {
   "cell_type": "code",
   "execution_count": 13,
   "id": "da8128f2",
   "metadata": {},
   "outputs": [
    {
     "data": {
      "text/plain": [
       "0     2.0\n",
       "1     6.0\n",
       "2    66.0\n",
       "3    18.0\n",
       "4    78.0\n",
       "dtype: float64"
      ]
     },
     "execution_count": 13,
     "metadata": {},
     "output_type": "execute_result"
    }
   ],
   "source": [
    "tuple1=(2,6.0,66,18,78)\n",
    "X=pd.Series(tuple1)\n",
    "X"
   ]
  },
  {
   "cell_type": "markdown",
   "id": "19064f80",
   "metadata": {},
   "source": [
    "Pandas (Series Using Dictionary)"
   ]
  },
  {
   "cell_type": "code",
   "execution_count": 14,
   "id": "46ed6af0",
   "metadata": {},
   "outputs": [
    {
     "data": {
      "text/plain": [
       "1    11\n",
       "3    34\n",
       "5    99\n",
       "4    24\n",
       "dtype: int64"
      ]
     },
     "execution_count": 14,
     "metadata": {},
     "output_type": "execute_result"
    }
   ],
   "source": [
    "import numpy as np\n",
    "import pandas as pd\n",
    "dict1={1:11,3:34,5:99,4:24}\n",
    "X=pd.Series(dict1)\n",
    "X"
   ]
  },
  {
   "cell_type": "markdown",
   "id": "864dde3b",
   "metadata": {},
   "source": [
    "Pandas (series using Numpy)"
   ]
  },
  {
   "cell_type": "code",
   "execution_count": 16,
   "id": "c1fb9c91",
   "metadata": {},
   "outputs": [
    {
     "data": {
      "text/plain": [
       "0    11\n",
       "1    34\n",
       "2    68\n",
       "3    90\n",
       "dtype: int64"
      ]
     },
     "execution_count": 16,
     "metadata": {},
     "output_type": "execute_result"
    }
   ],
   "source": [
    "import numpy as np\n",
    "import pandas as pd\n",
    "numpy =np.array([11,34,68,90])\n",
    "X=pd.Series(numpy)\n",
    "X\n"
   ]
  },
  {
   "cell_type": "markdown",
   "id": "5f235cb4",
   "metadata": {},
   "source": [
    "Pandas(series using Scalar Vector)"
   ]
  },
  {
   "cell_type": "code",
   "execution_count": 17,
   "id": "7fa6f86e",
   "metadata": {},
   "outputs": [
    {
     "data": {
      "text/plain": [
       "0    15\n",
       "1    15\n",
       "2    15\n",
       "3    15\n",
       "4    15\n",
       "5    15\n",
       "dtype: int64"
      ]
     },
     "execution_count": 17,
     "metadata": {},
     "output_type": "execute_result"
    }
   ],
   "source": [
    "X=pd.Series(15,index=[0,1,2,3,4,5])\n",
    "X"
   ]
  },
  {
   "cell_type": "markdown",
   "id": "4cf7e672",
   "metadata": {},
   "source": [
    "Direct Methods For using Pandas in(Lists,Tuples,Dictionary,Numpy,scalar Value)"
   ]
  },
  {
   "cell_type": "markdown",
   "id": "a84b927f",
   "metadata": {},
   "source": [
    "Pandas(series Using lists)"
   ]
  },
  {
   "cell_type": "code",
   "execution_count": 4,
   "id": "f2b1bd90",
   "metadata": {},
   "outputs": [
    {
     "data": {
      "text/plain": [
       "0       10\n",
       "1     43.6\n",
       "2    Gnani\n",
       "3      223\n",
       "dtype: object"
      ]
     },
     "execution_count": 4,
     "metadata": {},
     "output_type": "execute_result"
    }
   ],
   "source": [
    "import numpy as np\n",
    "import pandas as pd\n",
    "X=pd.Series([10,43.6,'Gnani',223])\n",
    "X"
   ]
  },
  {
   "cell_type": "markdown",
   "id": "f4efccb6",
   "metadata": {},
   "source": [
    "Pandas (series using Tuples)"
   ]
  },
  {
   "cell_type": "code",
   "execution_count": 5,
   "id": "731dd216",
   "metadata": {},
   "outputs": [
    {
     "data": {
      "text/plain": [
       "0       22\n",
       "1       78\n",
       "2     45.5\n",
       "3    Mohan\n",
       "dtype: object"
      ]
     },
     "execution_count": 5,
     "metadata": {},
     "output_type": "execute_result"
    }
   ],
   "source": [
    "import numpy as np\n",
    "import pandas as pd\n",
    "Y=pd.Series((22,78,45.5,'Mohan'))\n",
    "Y"
   ]
  },
  {
   "cell_type": "markdown",
   "id": "1a05cff8",
   "metadata": {},
   "source": [
    "Pandas (series using Dictionary)"
   ]
  },
  {
   "cell_type": "code",
   "execution_count": 6,
   "id": "2caed3b6",
   "metadata": {},
   "outputs": [
    {
     "data": {
      "text/plain": [
       "1       23\n",
       "5       25\n",
       "9      125\n",
       "4    mohan\n",
       "dtype: object"
      ]
     },
     "execution_count": 6,
     "metadata": {},
     "output_type": "execute_result"
    }
   ],
   "source": [
    "import numpy as np\n",
    "import pandas as pd\n",
    "Z=pd.Series({1:23,5:25,9:125,4:'mohan'})\n",
    "Z"
   ]
  },
  {
   "cell_type": "markdown",
   "id": "f4b8ea6a",
   "metadata": {},
   "source": [
    "pandas(series using Numpy)\n"
   ]
  },
  {
   "cell_type": "code",
   "execution_count": 7,
   "id": "b0524e2f",
   "metadata": {},
   "outputs": [
    {
     "data": {
      "text/plain": [
       "0    12\n",
       "1    33\n",
       "2    78\n",
       "dtype: int64"
      ]
     },
     "execution_count": 7,
     "metadata": {},
     "output_type": "execute_result"
    }
   ],
   "source": [
    "import numpy as np\n",
    "import pandas as pd\n",
    "B=pd.Series(np.array([12,33,78,]))\n",
    "B"
   ]
  },
  {
   "cell_type": "markdown",
   "id": "5f7a90d1",
   "metadata": {},
   "source": [
    "Pandas (Series Using Scalar Vector)"
   ]
  },
  {
   "cell_type": "code",
   "execution_count": 8,
   "id": "fc19cf9d",
   "metadata": {},
   "outputs": [
    {
     "data": {
      "text/plain": [
       "0    15\n",
       "1    15\n",
       "2    15\n",
       "3    15\n",
       "4    15\n",
       "5    15\n",
       "6    15\n",
       "7    15\n",
       "dtype: int64"
      ]
     },
     "execution_count": 8,
     "metadata": {},
     "output_type": "execute_result"
    }
   ],
   "source": [
    "X=pd.Series(15,index=(0,1,2,3,4,5,6,7))\n",
    "X"
   ]
  },
  {
   "cell_type": "code",
   "execution_count": 11,
   "id": "0878ac48",
   "metadata": {},
   "outputs": [
    {
     "data": {
      "text/plain": [
       "A    100\n",
       "B    200\n",
       "C    300\n",
       "D    400\n",
       "E    500\n",
       "dtype: int64"
      ]
     },
     "execution_count": 11,
     "metadata": {},
     "output_type": "execute_result"
    }
   ],
   "source": [
    "import numpy as np\n",
    "import pandas as pd\n",
    "C=pd.Series({'A':100,'B':200,'C':300,'D':400,'E':500})\n",
    "C\n"
   ]
  },
  {
   "cell_type": "markdown",
   "id": "d439e05d",
   "metadata": {},
   "source": [
    "Pandas (series Using list (with index))"
   ]
  },
  {
   "cell_type": "code",
   "execution_count": 1,
   "id": "46ad1fac",
   "metadata": {},
   "outputs": [
    {
     "data": {
      "text/plain": [
       "a    12\n",
       "b    33\n",
       "c    44\n",
       "d    55\n",
       "dtype: int64"
      ]
     },
     "execution_count": 1,
     "metadata": {},
     "output_type": "execute_result"
    }
   ],
   "source": [
    "import numpy as np\n",
    "import pandas as pd\n",
    "X=pd.Series([12,33,44,55],index=['a','b','c','d'])\n",
    "X"
   ]
  },
  {
   "cell_type": "markdown",
   "id": "68ab5715",
   "metadata": {},
   "source": [
    "pandas (series using tuple( with index))"
   ]
  },
  {
   "cell_type": "code",
   "execution_count": 17,
   "id": "6cc484a3",
   "metadata": {},
   "outputs": [
    {
     "data": {
      "text/plain": [
       "A      22\n",
       "B    34.5\n",
       "C     Sai\n",
       "D      34\n",
       "dtype: object"
      ]
     },
     "execution_count": 17,
     "metadata": {},
     "output_type": "execute_result"
    }
   ],
   "source": [
    "import numpy as np\n",
    "import pandas as pd\n",
    "S1=pd.Series((22,34.5,'Sai',34),index=['A','B','C','D'])\n",
    "S1\n"
   ]
  },
  {
   "cell_type": "markdown",
   "id": "1d02a831",
   "metadata": {},
   "source": [
    "pandas (series using numpy(with index))"
   ]
  },
  {
   "cell_type": "code",
   "execution_count": 21,
   "id": "a760f44b",
   "metadata": {},
   "outputs": [
    {
     "data": {
      "text/plain": [
       "2    22.0\n",
       "4    45.0\n",
       "6     7.8\n",
       "8    43.0\n",
       "dtype: float64"
      ]
     },
     "execution_count": 21,
     "metadata": {},
     "output_type": "execute_result"
    }
   ],
   "source": [
    "import numpy as np\n",
    "import pandas as pd\n",
    "S1=pd.Series(np.array([22,45,7.8,43]),index=['2','4','6','8'])\n",
    "S1\n"
   ]
  },
  {
   "cell_type": "markdown",
   "id": "453f8718",
   "metadata": {},
   "source": [
    "Pandas (series Using list(with dtype))"
   ]
  },
  {
   "cell_type": "code",
   "execution_count": 24,
   "id": "924d7746",
   "metadata": {},
   "outputs": [
    {
     "data": {
      "text/plain": [
       "0    22.0\n",
       "1    33.0\n",
       "2    67.0\n",
       "3    47.0\n",
       "dtype: float64"
      ]
     },
     "execution_count": 24,
     "metadata": {},
     "output_type": "execute_result"
    }
   ],
   "source": [
    "import numpy as np\n",
    "import pandas as pd\n",
    "S2=pd.Series([22,33,67,47],dtype='float')\n",
    "S2"
   ]
  },
  {
   "cell_type": "markdown",
   "id": "c9c5076f",
   "metadata": {},
   "source": [
    "Accessing The Data from the Pandas Series"
   ]
  },
  {
   "cell_type": "code",
   "execution_count": 37,
   "id": "a68e3dfc",
   "metadata": {},
   "outputs": [
    {
     "name": "stdout",
     "output_type": "stream",
     "text": [
      "20\n"
     ]
    }
   ],
   "source": [
    "import numpy as np\n",
    "import pandas as pd\n",
    "S1=pd.Series([10,20,30,40])\n",
    "print (S1[1])"
   ]
  },
  {
   "cell_type": "markdown",
   "id": "f997a6d2",
   "metadata": {},
   "source": [
    "Operations on pandas Series"
   ]
  },
  {
   "cell_type": "code",
   "execution_count": 42,
   "id": "50b0d212",
   "metadata": {},
   "outputs": [
    {
     "name": "stdout",
     "output_type": "stream",
     "text": [
      "0    15\n",
      "1    21\n",
      "2    34\n",
      "3    43\n",
      "dtype: int64\n"
     ]
    }
   ],
   "source": [
    "import numpy as np\n",
    "import pandas as pd\n",
    "S1=pd.Series([10,20,30,40])\n",
    "S2=pd.Series([5,1,4,3])\n",
    "print(S1+S2)\n"
   ]
  },
  {
   "cell_type": "code",
   "execution_count": 40,
   "id": "a0a4a890",
   "metadata": {},
   "outputs": [
    {
     "name": "stdout",
     "output_type": "stream",
     "text": [
      "0     2.000000\n",
      "1    20.000000\n",
      "2     7.500000\n",
      "3    13.333333\n",
      "dtype: float64\n"
     ]
    }
   ],
   "source": [
    "print(S1/S2)"
   ]
  },
  {
   "cell_type": "code",
   "execution_count": 41,
   "id": "7425505f",
   "metadata": {},
   "outputs": [
    {
     "name": "stdout",
     "output_type": "stream",
     "text": [
      "0     50\n",
      "1     20\n",
      "2    120\n",
      "3    120\n",
      "dtype: int64\n"
     ]
    }
   ],
   "source": [
    "print(S1*S2)"
   ]
  },
  {
   "cell_type": "code",
   "execution_count": 43,
   "id": "72c71c21",
   "metadata": {},
   "outputs": [
    {
     "name": "stdout",
     "output_type": "stream",
     "text": [
      "0    100000\n",
      "1        20\n",
      "2    810000\n",
      "3     64000\n",
      "dtype: int64\n"
     ]
    }
   ],
   "source": [
    "print(S1**S2)"
   ]
  },
  {
   "cell_type": "code",
   "execution_count": 49,
   "id": "140ecdfc",
   "metadata": {},
   "outputs": [
    {
     "name": "stdout",
     "output_type": "stream",
     "text": [
      "0    0.1\n",
      "1    0.1\n",
      "2    0.1\n",
      "3    0.1\n",
      "dtype: float64\n",
      "0    0\n",
      "1    0\n",
      "2    0\n",
      "3    0\n",
      "dtype: int64\n",
      "    0   1   2   3  other  self\n",
      "0 NaN NaN NaN NaN    NaN   NaN\n",
      "1 NaN NaN NaN NaN    NaN   NaN\n",
      "2 NaN NaN NaN NaN    NaN   NaN\n",
      "3 NaN NaN NaN NaN    NaN   NaN\n"
     ]
    }
   ],
   "source": [
    "import numpy as np\n",
    "import pandas as pd\n",
    "X=pd.Series([1,2,3,4])\n",
    "Y=pd.Series([10,20,30,40])\n",
    "print(X/Y)\n",
    "print(X//Y)\n",
    "print(X//Y.compare(X/Y))"
   ]
  }
 ],
 "metadata": {
  "kernelspec": {
   "display_name": "Python 3",
   "language": "python",
   "name": "python3"
  },
  "language_info": {
   "codemirror_mode": {
    "name": "ipython",
    "version": 3
   },
   "file_extension": ".py",
   "mimetype": "text/x-python",
   "name": "python",
   "nbconvert_exporter": "python",
   "pygments_lexer": "ipython3",
   "version": "3.13.1"
  }
 },
 "nbformat": 4,
 "nbformat_minor": 5
}
