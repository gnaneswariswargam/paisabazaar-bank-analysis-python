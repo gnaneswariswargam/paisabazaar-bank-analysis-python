{
 "cells": [
  {
   "cell_type": "markdown",
   "id": "d481964f",
   "metadata": {},
   "source": [
    "Pandas (Series) vs Pandas (Data Frame)"
   ]
  },
  {
   "cell_type": "markdown",
   "id": "d9412b76",
   "metadata": {},
   "source": [
    "PANDAS (SERIES)"
   ]
  },
  {
   "cell_type": "code",
   "execution_count": 1,
   "id": "a1e6cf6a",
   "metadata": {},
   "outputs": [
    {
     "data": {
      "text/plain": [
       "0    10\n",
       "1    20\n",
       "2    30\n",
       "3    40\n",
       "dtype: int64"
      ]
     },
     "execution_count": 1,
     "metadata": {},
     "output_type": "execute_result"
    }
   ],
   "source": [
    "import pandas as pd\n",
    "X=pd.Series([10,20,30,40])\n",
    "X"
   ]
  },
  {
   "cell_type": "markdown",
   "id": "8a6b0bc3",
   "metadata": {},
   "source": [
    "PANDAS (DATA FRAME)"
   ]
  },
  {
   "cell_type": "code",
   "execution_count": 2,
   "id": "b05b8a75",
   "metadata": {},
   "outputs": [
    {
     "data": {
      "text/html": [
       "<div>\n",
       "<style scoped>\n",
       "    .dataframe tbody tr th:only-of-type {\n",
       "        vertical-align: middle;\n",
       "    }\n",
       "\n",
       "    .dataframe tbody tr th {\n",
       "        vertical-align: top;\n",
       "    }\n",
       "\n",
       "    .dataframe thead th {\n",
       "        text-align: right;\n",
       "    }\n",
       "</style>\n",
       "<table border=\"1\" class=\"dataframe\">\n",
       "  <thead>\n",
       "    <tr style=\"text-align: right;\">\n",
       "      <th></th>\n",
       "      <th>0</th>\n",
       "    </tr>\n",
       "  </thead>\n",
       "  <tbody>\n",
       "    <tr>\n",
       "      <th>0</th>\n",
       "      <td>10</td>\n",
       "    </tr>\n",
       "    <tr>\n",
       "      <th>1</th>\n",
       "      <td>20</td>\n",
       "    </tr>\n",
       "    <tr>\n",
       "      <th>2</th>\n",
       "      <td>30</td>\n",
       "    </tr>\n",
       "    <tr>\n",
       "      <th>3</th>\n",
       "      <td>40</td>\n",
       "    </tr>\n",
       "  </tbody>\n",
       "</table>\n",
       "</div>"
      ],
      "text/plain": [
       "    0\n",
       "0  10\n",
       "1  20\n",
       "2  30\n",
       "3  40"
      ]
     },
     "execution_count": 2,
     "metadata": {},
     "output_type": "execute_result"
    }
   ],
   "source": [
    "import pandas as pd\n",
    "df=pd.DataFrame([10,20,30,40])\n",
    "df"
   ]
  },
  {
   "cell_type": "markdown",
   "id": "fd0c7c8f",
   "metadata": {},
   "source": [
    "Pandas Data Frame Can be Created By using\n",
    ".List\n",
    ".Nested List\n",
    ".Dictionary\n",
    ".Numpy Array\n",
    ".Series"
   ]
  },
  {
   "cell_type": "markdown",
   "id": "daf7ce8e",
   "metadata": {},
   "source": [
    "Pandas Data Frame Using Python List\n"
   ]
  },
  {
   "cell_type": "code",
   "execution_count": 4,
   "id": "d535b6fb",
   "metadata": {},
   "outputs": [
    {
     "data": {
      "text/html": [
       "<div>\n",
       "<style scoped>\n",
       "    .dataframe tbody tr th:only-of-type {\n",
       "        vertical-align: middle;\n",
       "    }\n",
       "\n",
       "    .dataframe tbody tr th {\n",
       "        vertical-align: top;\n",
       "    }\n",
       "\n",
       "    .dataframe thead th {\n",
       "        text-align: right;\n",
       "    }\n",
       "</style>\n",
       "<table border=\"1\" class=\"dataframe\">\n",
       "  <thead>\n",
       "    <tr style=\"text-align: right;\">\n",
       "      <th></th>\n",
       "      <th>0</th>\n",
       "    </tr>\n",
       "  </thead>\n",
       "  <tbody>\n",
       "    <tr>\n",
       "      <th>0</th>\n",
       "      <td>32</td>\n",
       "    </tr>\n",
       "    <tr>\n",
       "      <th>1</th>\n",
       "      <td>49</td>\n",
       "    </tr>\n",
       "    <tr>\n",
       "      <th>2</th>\n",
       "      <td>80</td>\n",
       "    </tr>\n",
       "  </tbody>\n",
       "</table>\n",
       "</div>"
      ],
      "text/plain": [
       "    0\n",
       "0  32\n",
       "1  49\n",
       "2  80"
      ]
     },
     "execution_count": 4,
     "metadata": {},
     "output_type": "execute_result"
    }
   ],
   "source": [
    "import pandas as pd\n",
    "df=pd.DataFrame([32,49,80])\n",
    "df"
   ]
  },
  {
   "cell_type": "markdown",
   "id": "fef9e24f",
   "metadata": {},
   "source": [
    "pandas Data Frame Using Nested List"
   ]
  },
  {
   "cell_type": "code",
   "execution_count": 5,
   "id": "8aec62ec",
   "metadata": {},
   "outputs": [
    {
     "data": {
      "text/plain": [
       "[['Gnani', 99], ['Mohan', 98], ['Marthand', 99], ['sai', 100]]"
      ]
     },
     "execution_count": 5,
     "metadata": {},
     "output_type": "execute_result"
    }
   ],
   "source": [
    "S1=[['Gnani',99],['Mohan',98],['Marthand',99],['sai',100]]\n",
    "S1"
   ]
  },
  {
   "cell_type": "code",
   "execution_count": 8,
   "id": "e2871199",
   "metadata": {},
   "outputs": [
    {
     "name": "stdout",
     "output_type": "stream",
     "text": [
      "          0    1\n",
      "0     Gnani   99\n",
      "1     Mohan   98\n",
      "2  Marthand   99\n",
      "3       sai  100\n"
     ]
    }
   ],
   "source": [
    "df=pd.DataFrame(S1)\n",
    "print(df)"
   ]
  },
  {
   "cell_type": "markdown",
   "id": "5943cd59",
   "metadata": {},
   "source": [
    "pandas Data Frame using Dictionary"
   ]
  },
  {
   "cell_type": "code",
   "execution_count": 12,
   "id": "85249703",
   "metadata": {},
   "outputs": [
    {
     "data": {
      "text/plain": [
       "{'Name': ['marthand', 'krishna', 'nikil'], 'marks': [100, 98, 98]}"
      ]
     },
     "execution_count": 12,
     "metadata": {},
     "output_type": "execute_result"
    }
   ],
   "source": [
    "d1={'Name':['marthand','krishna','nikil'],\n",
    "     'marks':[100,98,98]}   \n",
    "d1    "
   ]
  },
  {
   "cell_type": "code",
   "execution_count": 13,
   "id": "f4ff2aeb",
   "metadata": {},
   "outputs": [
    {
     "name": "stdout",
     "output_type": "stream",
     "text": [
      "       Name  marks\n",
      "0  marthand    100\n",
      "1   krishna     98\n",
      "2     nikil     98\n"
     ]
    }
   ],
   "source": [
    "df=pd.DataFrame(d1)\n",
    "print(df)"
   ]
  },
  {
   "cell_type": "markdown",
   "id": "8055847f",
   "metadata": {},
   "source": [
    "Pandas Data Frame Using Combinations of Series"
   ]
  },
  {
   "cell_type": "code",
   "execution_count": 14,
   "id": "362f5476",
   "metadata": {},
   "outputs": [
    {
     "name": "stdout",
     "output_type": "stream",
     "text": [
      "     name  marks\n",
      "0     sai     99\n",
      "1  nikhil     80\n",
      "2   surya     90\n"
     ]
    }
   ],
   "source": [
    "d={'name':pd.Series(['sai','nikhil','surya']),\n",
    "   'marks':pd.Series([99,80,90])}\n",
    "df=pd.DataFrame(d)\n",
    "print(df)"
   ]
  },
  {
   "cell_type": "code",
   "execution_count": 24,
   "id": "e9b7425e",
   "metadata": {},
   "outputs": [
    {
     "name": "stdout",
     "output_type": "stream",
     "text": [
      "         city  Temapature\n",
      "A  Ahamedabad        40.1\n",
      "B       anand        35.2\n",
      "C      baroda        38.5\n"
     ]
    }
   ],
   "source": [
    "d={'city':['Ahamedabad','anand','baroda'],\n",
    "   'Temapature':[40.1,35.2,38.5]}\n",
    "df=pd.DataFrame(d,index=['A','B','C'])\n",
    "print(df)"
   ]
  },
  {
   "cell_type": "markdown",
   "id": "63b91ce0",
   "metadata": {},
   "source": [
    "Viewing OR Inspecting Data Frame Using Pandas Data Frame"
   ]
  },
  {
   "cell_type": "code",
   "execution_count": 1,
   "id": "af778108",
   "metadata": {},
   "outputs": [
    {
     "name": "stdout",
     "output_type": "stream",
     "text": [
      "         Name  Marks\n",
      "stu1     Gopi     98\n",
      "stu2    Navya     89\n",
      "stu3  Sandhya     99\n",
      "stu4     Soni     87\n",
      "stu5    Gnani     90\n",
      "stu6      Sai     83\n",
      "stu7     Rupa     82\n"
     ]
    }
   ],
   "source": [
    "import pandas as pd\n",
    "d={'Name':['Gopi','Navya','Sandhya','Soni','Gnani','Sai','Rupa'],\n",
    "   'Marks':[98,89,99,87,90,83,82]}\n",
    "df=pd.DataFrame(d,index=['stu1','stu2','stu3','stu4','stu5','stu6','stu7'])\n",
    "print(df)"
   ]
  },
  {
   "cell_type": "markdown",
   "id": "2cc3d168",
   "metadata": {},
   "source": [
    "SHAPE\n"
   ]
  },
  {
   "cell_type": "code",
   "execution_count": 2,
   "id": "2dfe90cc",
   "metadata": {},
   "outputs": [
    {
     "data": {
      "text/plain": [
       "(7, 2)"
      ]
     },
     "execution_count": 2,
     "metadata": {},
     "output_type": "execute_result"
    }
   ],
   "source": [
    "df.shape"
   ]
  },
  {
   "cell_type": "markdown",
   "id": "baccb734",
   "metadata": {},
   "source": [
    "HEAD()"
   ]
  },
  {
   "cell_type": "code",
   "execution_count": 3,
   "id": "22abc9bf",
   "metadata": {},
   "outputs": [
    {
     "data": {
      "text/html": [
       "<div>\n",
       "<style scoped>\n",
       "    .dataframe tbody tr th:only-of-type {\n",
       "        vertical-align: middle;\n",
       "    }\n",
       "\n",
       "    .dataframe tbody tr th {\n",
       "        vertical-align: top;\n",
       "    }\n",
       "\n",
       "    .dataframe thead th {\n",
       "        text-align: right;\n",
       "    }\n",
       "</style>\n",
       "<table border=\"1\" class=\"dataframe\">\n",
       "  <thead>\n",
       "    <tr style=\"text-align: right;\">\n",
       "      <th></th>\n",
       "      <th>Name</th>\n",
       "      <th>Marks</th>\n",
       "    </tr>\n",
       "  </thead>\n",
       "  <tbody>\n",
       "    <tr>\n",
       "      <th>stu1</th>\n",
       "      <td>Gopi</td>\n",
       "      <td>98</td>\n",
       "    </tr>\n",
       "    <tr>\n",
       "      <th>stu2</th>\n",
       "      <td>Navya</td>\n",
       "      <td>89</td>\n",
       "    </tr>\n",
       "    <tr>\n",
       "      <th>stu3</th>\n",
       "      <td>Sandhya</td>\n",
       "      <td>99</td>\n",
       "    </tr>\n",
       "    <tr>\n",
       "      <th>stu4</th>\n",
       "      <td>Soni</td>\n",
       "      <td>87</td>\n",
       "    </tr>\n",
       "    <tr>\n",
       "      <th>stu5</th>\n",
       "      <td>Gnani</td>\n",
       "      <td>90</td>\n",
       "    </tr>\n",
       "  </tbody>\n",
       "</table>\n",
       "</div>"
      ],
      "text/plain": [
       "         Name  Marks\n",
       "stu1     Gopi     98\n",
       "stu2    Navya     89\n",
       "stu3  Sandhya     99\n",
       "stu4     Soni     87\n",
       "stu5    Gnani     90"
      ]
     },
     "execution_count": 3,
     "metadata": {},
     "output_type": "execute_result"
    }
   ],
   "source": [
    "df.head()"
   ]
  },
  {
   "cell_type": "code",
   "execution_count": 4,
   "id": "47688373",
   "metadata": {},
   "outputs": [
    {
     "data": {
      "text/html": [
       "<div>\n",
       "<style scoped>\n",
       "    .dataframe tbody tr th:only-of-type {\n",
       "        vertical-align: middle;\n",
       "    }\n",
       "\n",
       "    .dataframe tbody tr th {\n",
       "        vertical-align: top;\n",
       "    }\n",
       "\n",
       "    .dataframe thead th {\n",
       "        text-align: right;\n",
       "    }\n",
       "</style>\n",
       "<table border=\"1\" class=\"dataframe\">\n",
       "  <thead>\n",
       "    <tr style=\"text-align: right;\">\n",
       "      <th></th>\n",
       "      <th>Name</th>\n",
       "      <th>Marks</th>\n",
       "    </tr>\n",
       "  </thead>\n",
       "  <tbody>\n",
       "    <tr>\n",
       "      <th>stu1</th>\n",
       "      <td>Gopi</td>\n",
       "      <td>98</td>\n",
       "    </tr>\n",
       "    <tr>\n",
       "      <th>stu2</th>\n",
       "      <td>Navya</td>\n",
       "      <td>89</td>\n",
       "    </tr>\n",
       "  </tbody>\n",
       "</table>\n",
       "</div>"
      ],
      "text/plain": [
       "       Name  Marks\n",
       "stu1   Gopi     98\n",
       "stu2  Navya     89"
      ]
     },
     "execution_count": 4,
     "metadata": {},
     "output_type": "execute_result"
    }
   ],
   "source": [
    "df.head(2)"
   ]
  },
  {
   "cell_type": "code",
   "execution_count": 5,
   "id": "efad76b7",
   "metadata": {},
   "outputs": [
    {
     "data": {
      "text/html": [
       "<div>\n",
       "<style scoped>\n",
       "    .dataframe tbody tr th:only-of-type {\n",
       "        vertical-align: middle;\n",
       "    }\n",
       "\n",
       "    .dataframe tbody tr th {\n",
       "        vertical-align: top;\n",
       "    }\n",
       "\n",
       "    .dataframe thead th {\n",
       "        text-align: right;\n",
       "    }\n",
       "</style>\n",
       "<table border=\"1\" class=\"dataframe\">\n",
       "  <thead>\n",
       "    <tr style=\"text-align: right;\">\n",
       "      <th></th>\n",
       "      <th>Name</th>\n",
       "      <th>Marks</th>\n",
       "    </tr>\n",
       "  </thead>\n",
       "  <tbody>\n",
       "    <tr>\n",
       "      <th>stu1</th>\n",
       "      <td>Gopi</td>\n",
       "      <td>98</td>\n",
       "    </tr>\n",
       "    <tr>\n",
       "      <th>stu2</th>\n",
       "      <td>Navya</td>\n",
       "      <td>89</td>\n",
       "    </tr>\n",
       "    <tr>\n",
       "      <th>stu3</th>\n",
       "      <td>Sandhya</td>\n",
       "      <td>99</td>\n",
       "    </tr>\n",
       "    <tr>\n",
       "      <th>stu4</th>\n",
       "      <td>Soni</td>\n",
       "      <td>87</td>\n",
       "    </tr>\n",
       "    <tr>\n",
       "      <th>stu5</th>\n",
       "      <td>Gnani</td>\n",
       "      <td>90</td>\n",
       "    </tr>\n",
       "  </tbody>\n",
       "</table>\n",
       "</div>"
      ],
      "text/plain": [
       "         Name  Marks\n",
       "stu1     Gopi     98\n",
       "stu2    Navya     89\n",
       "stu3  Sandhya     99\n",
       "stu4     Soni     87\n",
       "stu5    Gnani     90"
      ]
     },
     "execution_count": 5,
     "metadata": {},
     "output_type": "execute_result"
    }
   ],
   "source": [
    "df.head(5)"
   ]
  },
  {
   "cell_type": "code",
   "execution_count": 6,
   "id": "521d8b36",
   "metadata": {},
   "outputs": [
    {
     "data": {
      "text/html": [
       "<div>\n",
       "<style scoped>\n",
       "    .dataframe tbody tr th:only-of-type {\n",
       "        vertical-align: middle;\n",
       "    }\n",
       "\n",
       "    .dataframe tbody tr th {\n",
       "        vertical-align: top;\n",
       "    }\n",
       "\n",
       "    .dataframe thead th {\n",
       "        text-align: right;\n",
       "    }\n",
       "</style>\n",
       "<table border=\"1\" class=\"dataframe\">\n",
       "  <thead>\n",
       "    <tr style=\"text-align: right;\">\n",
       "      <th></th>\n",
       "      <th>Name</th>\n",
       "      <th>Marks</th>\n",
       "    </tr>\n",
       "  </thead>\n",
       "  <tbody>\n",
       "    <tr>\n",
       "      <th>stu1</th>\n",
       "      <td>Gopi</td>\n",
       "      <td>98</td>\n",
       "    </tr>\n",
       "    <tr>\n",
       "      <th>stu2</th>\n",
       "      <td>Navya</td>\n",
       "      <td>89</td>\n",
       "    </tr>\n",
       "    <tr>\n",
       "      <th>stu3</th>\n",
       "      <td>Sandhya</td>\n",
       "      <td>99</td>\n",
       "    </tr>\n",
       "    <tr>\n",
       "      <th>stu4</th>\n",
       "      <td>Soni</td>\n",
       "      <td>87</td>\n",
       "    </tr>\n",
       "    <tr>\n",
       "      <th>stu5</th>\n",
       "      <td>Gnani</td>\n",
       "      <td>90</td>\n",
       "    </tr>\n",
       "    <tr>\n",
       "      <th>stu6</th>\n",
       "      <td>Sai</td>\n",
       "      <td>83</td>\n",
       "    </tr>\n",
       "  </tbody>\n",
       "</table>\n",
       "</div>"
      ],
      "text/plain": [
       "         Name  Marks\n",
       "stu1     Gopi     98\n",
       "stu2    Navya     89\n",
       "stu3  Sandhya     99\n",
       "stu4     Soni     87\n",
       "stu5    Gnani     90\n",
       "stu6      Sai     83"
      ]
     },
     "execution_count": 6,
     "metadata": {},
     "output_type": "execute_result"
    }
   ],
   "source": [
    "df.head(6)"
   ]
  },
  {
   "cell_type": "markdown",
   "id": "892082e4",
   "metadata": {},
   "source": [
    "TAIL"
   ]
  },
  {
   "cell_type": "code",
   "execution_count": 7,
   "id": "b09f7704",
   "metadata": {},
   "outputs": [
    {
     "data": {
      "text/html": [
       "<div>\n",
       "<style scoped>\n",
       "    .dataframe tbody tr th:only-of-type {\n",
       "        vertical-align: middle;\n",
       "    }\n",
       "\n",
       "    .dataframe tbody tr th {\n",
       "        vertical-align: top;\n",
       "    }\n",
       "\n",
       "    .dataframe thead th {\n",
       "        text-align: right;\n",
       "    }\n",
       "</style>\n",
       "<table border=\"1\" class=\"dataframe\">\n",
       "  <thead>\n",
       "    <tr style=\"text-align: right;\">\n",
       "      <th></th>\n",
       "      <th>Name</th>\n",
       "      <th>Marks</th>\n",
       "    </tr>\n",
       "  </thead>\n",
       "  <tbody>\n",
       "    <tr>\n",
       "      <th>stu3</th>\n",
       "      <td>Sandhya</td>\n",
       "      <td>99</td>\n",
       "    </tr>\n",
       "    <tr>\n",
       "      <th>stu4</th>\n",
       "      <td>Soni</td>\n",
       "      <td>87</td>\n",
       "    </tr>\n",
       "    <tr>\n",
       "      <th>stu5</th>\n",
       "      <td>Gnani</td>\n",
       "      <td>90</td>\n",
       "    </tr>\n",
       "    <tr>\n",
       "      <th>stu6</th>\n",
       "      <td>Sai</td>\n",
       "      <td>83</td>\n",
       "    </tr>\n",
       "    <tr>\n",
       "      <th>stu7</th>\n",
       "      <td>Rupa</td>\n",
       "      <td>82</td>\n",
       "    </tr>\n",
       "  </tbody>\n",
       "</table>\n",
       "</div>"
      ],
      "text/plain": [
       "         Name  Marks\n",
       "stu3  Sandhya     99\n",
       "stu4     Soni     87\n",
       "stu5    Gnani     90\n",
       "stu6      Sai     83\n",
       "stu7     Rupa     82"
      ]
     },
     "execution_count": 7,
     "metadata": {},
     "output_type": "execute_result"
    }
   ],
   "source": [
    "df.tail()"
   ]
  },
  {
   "cell_type": "code",
   "execution_count": 8,
   "id": "75247559",
   "metadata": {},
   "outputs": [
    {
     "data": {
      "text/html": [
       "<div>\n",
       "<style scoped>\n",
       "    .dataframe tbody tr th:only-of-type {\n",
       "        vertical-align: middle;\n",
       "    }\n",
       "\n",
       "    .dataframe tbody tr th {\n",
       "        vertical-align: top;\n",
       "    }\n",
       "\n",
       "    .dataframe thead th {\n",
       "        text-align: right;\n",
       "    }\n",
       "</style>\n",
       "<table border=\"1\" class=\"dataframe\">\n",
       "  <thead>\n",
       "    <tr style=\"text-align: right;\">\n",
       "      <th></th>\n",
       "      <th>Name</th>\n",
       "      <th>Marks</th>\n",
       "    </tr>\n",
       "  </thead>\n",
       "  <tbody>\n",
       "    <tr>\n",
       "      <th>stu5</th>\n",
       "      <td>Gnani</td>\n",
       "      <td>90</td>\n",
       "    </tr>\n",
       "    <tr>\n",
       "      <th>stu6</th>\n",
       "      <td>Sai</td>\n",
       "      <td>83</td>\n",
       "    </tr>\n",
       "    <tr>\n",
       "      <th>stu7</th>\n",
       "      <td>Rupa</td>\n",
       "      <td>82</td>\n",
       "    </tr>\n",
       "  </tbody>\n",
       "</table>\n",
       "</div>"
      ],
      "text/plain": [
       "       Name  Marks\n",
       "stu5  Gnani     90\n",
       "stu6    Sai     83\n",
       "stu7   Rupa     82"
      ]
     },
     "execution_count": 8,
     "metadata": {},
     "output_type": "execute_result"
    }
   ],
   "source": [
    "df.tail(3)\n"
   ]
  },
  {
   "cell_type": "code",
   "execution_count": 9,
   "id": "1c95a4e1",
   "metadata": {},
   "outputs": [
    {
     "data": {
      "text/html": [
       "<div>\n",
       "<style scoped>\n",
       "    .dataframe tbody tr th:only-of-type {\n",
       "        vertical-align: middle;\n",
       "    }\n",
       "\n",
       "    .dataframe tbody tr th {\n",
       "        vertical-align: top;\n",
       "    }\n",
       "\n",
       "    .dataframe thead th {\n",
       "        text-align: right;\n",
       "    }\n",
       "</style>\n",
       "<table border=\"1\" class=\"dataframe\">\n",
       "  <thead>\n",
       "    <tr style=\"text-align: right;\">\n",
       "      <th></th>\n",
       "      <th>Name</th>\n",
       "      <th>Marks</th>\n",
       "    </tr>\n",
       "  </thead>\n",
       "  <tbody>\n",
       "    <tr>\n",
       "      <th>stu1</th>\n",
       "      <td>Gopi</td>\n",
       "      <td>98</td>\n",
       "    </tr>\n",
       "    <tr>\n",
       "      <th>stu2</th>\n",
       "      <td>Navya</td>\n",
       "      <td>89</td>\n",
       "    </tr>\n",
       "    <tr>\n",
       "      <th>stu3</th>\n",
       "      <td>Sandhya</td>\n",
       "      <td>99</td>\n",
       "    </tr>\n",
       "    <tr>\n",
       "      <th>stu4</th>\n",
       "      <td>Soni</td>\n",
       "      <td>87</td>\n",
       "    </tr>\n",
       "    <tr>\n",
       "      <th>stu5</th>\n",
       "      <td>Gnani</td>\n",
       "      <td>90</td>\n",
       "    </tr>\n",
       "    <tr>\n",
       "      <th>stu6</th>\n",
       "      <td>Sai</td>\n",
       "      <td>83</td>\n",
       "    </tr>\n",
       "    <tr>\n",
       "      <th>stu7</th>\n",
       "      <td>Rupa</td>\n",
       "      <td>82</td>\n",
       "    </tr>\n",
       "  </tbody>\n",
       "</table>\n",
       "</div>"
      ],
      "text/plain": [
       "         Name  Marks\n",
       "stu1     Gopi     98\n",
       "stu2    Navya     89\n",
       "stu3  Sandhya     99\n",
       "stu4     Soni     87\n",
       "stu5    Gnani     90\n",
       "stu6      Sai     83\n",
       "stu7     Rupa     82"
      ]
     },
     "execution_count": 9,
     "metadata": {},
     "output_type": "execute_result"
    }
   ],
   "source": [
    "df.tail(7)"
   ]
  },
  {
   "cell_type": "markdown",
   "id": "3d89c654",
   "metadata": {},
   "source": [
    "To KNOW THE COLUMN NAMES "
   ]
  },
  {
   "cell_type": "code",
   "execution_count": 11,
   "id": "e4e69a21",
   "metadata": {},
   "outputs": [
    {
     "data": {
      "text/plain": [
       "Index(['Name', 'Marks'], dtype='object')"
      ]
     },
     "execution_count": 11,
     "metadata": {},
     "output_type": "execute_result"
    }
   ],
   "source": [
    "df.columns"
   ]
  },
  {
   "cell_type": "markdown",
   "id": "784025e3",
   "metadata": {},
   "source": [
    "INFORMATION ABOUT DATA FRAME "
   ]
  },
  {
   "cell_type": "code",
   "execution_count": 12,
   "id": "e0101631",
   "metadata": {},
   "outputs": [
    {
     "name": "stdout",
     "output_type": "stream",
     "text": [
      "<class 'pandas.core.frame.DataFrame'>\n",
      "Index: 7 entries, stu1 to stu7\n",
      "Data columns (total 2 columns):\n",
      " #   Column  Non-Null Count  Dtype \n",
      "---  ------  --------------  ----- \n",
      " 0   Name    7 non-null      object\n",
      " 1   Marks   7 non-null      int64 \n",
      "dtypes: int64(1), object(1)\n",
      "memory usage: 468.0+ bytes\n"
     ]
    }
   ],
   "source": [
    "df.info()"
   ]
  },
  {
   "cell_type": "markdown",
   "id": "982dc251",
   "metadata": {},
   "source": [
    "WE CAN ACESS THE COLUMNS OF DATA FRAME"
   ]
  },
  {
   "cell_type": "code",
   "execution_count": 14,
   "id": "5dd200c4",
   "metadata": {},
   "outputs": [
    {
     "data": {
      "text/plain": [
       "stu1       Gopi\n",
       "stu2      Navya\n",
       "stu3    Sandhya\n",
       "stu4       Soni\n",
       "stu5      Gnani\n",
       "stu6        Sai\n",
       "stu7       Rupa\n",
       "Name: Name, dtype: object"
      ]
     },
     "execution_count": 14,
     "metadata": {},
     "output_type": "execute_result"
    }
   ],
   "source": [
    "df.Name"
   ]
  },
  {
   "cell_type": "markdown",
   "id": "af0089b5",
   "metadata": {},
   "source": [
    "OR "
   ]
  },
  {
   "cell_type": "code",
   "execution_count": 17,
   "id": "ed904ef2",
   "metadata": {},
   "outputs": [
    {
     "data": {
      "text/plain": [
       "stu1       Gopi\n",
       "stu2      Navya\n",
       "stu3    Sandhya\n",
       "stu4       Soni\n",
       "stu5      Gnani\n",
       "stu6        Sai\n",
       "stu7       Rupa\n",
       "Name: Name, dtype: object"
      ]
     },
     "execution_count": 17,
     "metadata": {},
     "output_type": "execute_result"
    }
   ],
   "source": [
    "df['Name']"
   ]
  },
  {
   "cell_type": "code",
   "execution_count": 18,
   "id": "f4ff202f",
   "metadata": {},
   "outputs": [
    {
     "data": {
      "text/plain": [
       "stu1    98\n",
       "stu2    89\n",
       "stu3    99\n",
       "stu4    87\n",
       "stu5    90\n",
       "stu6    83\n",
       "stu7    82\n",
       "Name: Marks, dtype: int64"
      ]
     },
     "execution_count": 18,
     "metadata": {},
     "output_type": "execute_result"
    }
   ],
   "source": [
    "df['Marks']"
   ]
  },
  {
   "cell_type": "markdown",
   "id": "8d7c9c02",
   "metadata": {},
   "source": [
    "IF YOU WANT TO DISPLAY ALL COLUMNS SO WE USE THIS DF[['NAME','MARKS']]"
   ]
  },
  {
   "cell_type": "code",
   "execution_count": 19,
   "id": "d807715d",
   "metadata": {},
   "outputs": [
    {
     "data": {
      "text/html": [
       "<div>\n",
       "<style scoped>\n",
       "    .dataframe tbody tr th:only-of-type {\n",
       "        vertical-align: middle;\n",
       "    }\n",
       "\n",
       "    .dataframe tbody tr th {\n",
       "        vertical-align: top;\n",
       "    }\n",
       "\n",
       "    .dataframe thead th {\n",
       "        text-align: right;\n",
       "    }\n",
       "</style>\n",
       "<table border=\"1\" class=\"dataframe\">\n",
       "  <thead>\n",
       "    <tr style=\"text-align: right;\">\n",
       "      <th></th>\n",
       "      <th>Name</th>\n",
       "      <th>Marks</th>\n",
       "    </tr>\n",
       "  </thead>\n",
       "  <tbody>\n",
       "    <tr>\n",
       "      <th>stu1</th>\n",
       "      <td>Gopi</td>\n",
       "      <td>98</td>\n",
       "    </tr>\n",
       "    <tr>\n",
       "      <th>stu2</th>\n",
       "      <td>Navya</td>\n",
       "      <td>89</td>\n",
       "    </tr>\n",
       "    <tr>\n",
       "      <th>stu3</th>\n",
       "      <td>Sandhya</td>\n",
       "      <td>99</td>\n",
       "    </tr>\n",
       "    <tr>\n",
       "      <th>stu4</th>\n",
       "      <td>Soni</td>\n",
       "      <td>87</td>\n",
       "    </tr>\n",
       "    <tr>\n",
       "      <th>stu5</th>\n",
       "      <td>Gnani</td>\n",
       "      <td>90</td>\n",
       "    </tr>\n",
       "    <tr>\n",
       "      <th>stu6</th>\n",
       "      <td>Sai</td>\n",
       "      <td>83</td>\n",
       "    </tr>\n",
       "    <tr>\n",
       "      <th>stu7</th>\n",
       "      <td>Rupa</td>\n",
       "      <td>82</td>\n",
       "    </tr>\n",
       "  </tbody>\n",
       "</table>\n",
       "</div>"
      ],
      "text/plain": [
       "         Name  Marks\n",
       "stu1     Gopi     98\n",
       "stu2    Navya     89\n",
       "stu3  Sandhya     99\n",
       "stu4     Soni     87\n",
       "stu5    Gnani     90\n",
       "stu6      Sai     83\n",
       "stu7     Rupa     82"
      ]
     },
     "execution_count": 19,
     "metadata": {},
     "output_type": "execute_result"
    }
   ],
   "source": [
    "df[['Name','Marks']]"
   ]
  },
  {
   "cell_type": "markdown",
   "id": "2ae15c96",
   "metadata": {},
   "source": [
    "TO FIND THE MIN VALUE IN THE DATA FRAME"
   ]
  },
  {
   "cell_type": "markdown",
   "id": "18625b8e",
   "metadata": {},
   "source": [
    "FOR WHOLE DATA for min value\n",
    "\n"
   ]
  },
  {
   "cell_type": "code",
   "execution_count": 20,
   "id": "f811e3c2",
   "metadata": {},
   "outputs": [
    {
     "data": {
      "text/plain": [
       "Name     Gnani\n",
       "Marks       82\n",
       "dtype: object"
      ]
     },
     "execution_count": 20,
     "metadata": {},
     "output_type": "execute_result"
    }
   ],
   "source": [
    "df.min()"
   ]
  },
  {
   "cell_type": "markdown",
   "id": "d0c21eb0",
   "metadata": {},
   "source": [
    "ONLY MARKS COLUMN FOR MIN VALUE"
   ]
  },
  {
   "cell_type": "code",
   "execution_count": 21,
   "id": "23ac505b",
   "metadata": {},
   "outputs": [
    {
     "data": {
      "text/plain": [
       "np.int64(82)"
      ]
     },
     "execution_count": 21,
     "metadata": {},
     "output_type": "execute_result"
    }
   ],
   "source": [
    "df['Marks'].min()"
   ]
  },
  {
   "cell_type": "markdown",
   "id": "d733b799",
   "metadata": {},
   "source": [
    "MAXIMUM VALUE IN DATA FRAME"
   ]
  },
  {
   "cell_type": "code",
   "execution_count": 23,
   "id": "cb7e62d1",
   "metadata": {},
   "outputs": [
    {
     "data": {
      "text/plain": [
       "np.int64(99)"
      ]
     },
     "execution_count": 23,
     "metadata": {},
     "output_type": "execute_result"
    }
   ],
   "source": [
    "df['Marks'].max()"
   ]
  },
  {
   "cell_type": "markdown",
   "id": "6afd4995",
   "metadata": {},
   "source": [
    "TO FIND THE AVERAGE VALUE OF THE MARKS COLUMN"
   ]
  },
  {
   "cell_type": "code",
   "execution_count": 24,
   "id": "ad5673da",
   "metadata": {},
   "outputs": [
    {
     "data": {
      "text/plain": [
       "np.float64(89.71428571428571)"
      ]
     },
     "execution_count": 24,
     "metadata": {},
     "output_type": "execute_result"
    }
   ],
   "source": [
    "df['Marks'].mean()"
   ]
  },
  {
   "cell_type": "markdown",
   "id": "b2af6ed2",
   "metadata": {},
   "source": [
    "IF WE WANT SOME STATISTICAL FUNCTIONS IN DATAFRAME WE USE DESCRIBE"
   ]
  },
  {
   "cell_type": "code",
   "execution_count": 26,
   "id": "ec27edd1",
   "metadata": {},
   "outputs": [
    {
     "data": {
      "text/html": [
       "<div>\n",
       "<style scoped>\n",
       "    .dataframe tbody tr th:only-of-type {\n",
       "        vertical-align: middle;\n",
       "    }\n",
       "\n",
       "    .dataframe tbody tr th {\n",
       "        vertical-align: top;\n",
       "    }\n",
       "\n",
       "    .dataframe thead th {\n",
       "        text-align: right;\n",
       "    }\n",
       "</style>\n",
       "<table border=\"1\" class=\"dataframe\">\n",
       "  <thead>\n",
       "    <tr style=\"text-align: right;\">\n",
       "      <th></th>\n",
       "      <th>Marks</th>\n",
       "    </tr>\n",
       "  </thead>\n",
       "  <tbody>\n",
       "    <tr>\n",
       "      <th>count</th>\n",
       "      <td>7.000000</td>\n",
       "    </tr>\n",
       "    <tr>\n",
       "      <th>mean</th>\n",
       "      <td>89.714286</td>\n",
       "    </tr>\n",
       "    <tr>\n",
       "      <th>std</th>\n",
       "      <td>6.676184</td>\n",
       "    </tr>\n",
       "    <tr>\n",
       "      <th>min</th>\n",
       "      <td>82.000000</td>\n",
       "    </tr>\n",
       "    <tr>\n",
       "      <th>25%</th>\n",
       "      <td>85.000000</td>\n",
       "    </tr>\n",
       "    <tr>\n",
       "      <th>50%</th>\n",
       "      <td>89.000000</td>\n",
       "    </tr>\n",
       "    <tr>\n",
       "      <th>75%</th>\n",
       "      <td>94.000000</td>\n",
       "    </tr>\n",
       "    <tr>\n",
       "      <th>max</th>\n",
       "      <td>99.000000</td>\n",
       "    </tr>\n",
       "  </tbody>\n",
       "</table>\n",
       "</div>"
      ],
      "text/plain": [
       "           Marks\n",
       "count   7.000000\n",
       "mean   89.714286\n",
       "std     6.676184\n",
       "min    82.000000\n",
       "25%    85.000000\n",
       "50%    89.000000\n",
       "75%    94.000000\n",
       "max    99.000000"
      ]
     },
     "execution_count": 26,
     "metadata": {},
     "output_type": "execute_result"
    }
   ],
   "source": [
    "df.describe()"
   ]
  },
  {
   "cell_type": "markdown",
   "id": "81092f0a",
   "metadata": {},
   "source": [
    "VALUE_COUNTS FOR COUNT OF UNIQUE VALUES"
   ]
  },
  {
   "cell_type": "code",
   "execution_count": 28,
   "id": "1c75aac4",
   "metadata": {},
   "outputs": [
    {
     "name": "stdout",
     "output_type": "stream",
     "text": [
      "         Name  Marks\n",
      "stu1     Gopi     98\n",
      "stu2    Navya     89\n",
      "stu3  Sandhya     99\n",
      "stu4     Soni     87\n",
      "stu5    Gnani     99\n",
      "stu6      Sai     83\n",
      "stu7     Rupa     99\n"
     ]
    }
   ],
   "source": [
    "import pandas as pd\n",
    "d={'Name':['Gopi','Navya','Sandhya','Soni','Gnani','Sai','Rupa'],\n",
    "   'Marks':[98,89,99,87,99,83,99]}\n",
    "df=pd.DataFrame(d,index=['stu1','stu2','stu3','stu4','stu5','stu6','stu7'])\n",
    "print(df)"
   ]
  },
  {
   "cell_type": "code",
   "execution_count": 29,
   "id": "20f1acaa",
   "metadata": {},
   "outputs": [
    {
     "data": {
      "text/plain": [
       "Marks\n",
       "99    3\n",
       "98    1\n",
       "89    1\n",
       "87    1\n",
       "83    1\n",
       "Name: count, dtype: int64"
      ]
     },
     "execution_count": 29,
     "metadata": {},
     "output_type": "execute_result"
    }
   ],
   "source": [
    "df['Marks'].value_counts()"
   ]
  },
  {
   "cell_type": "markdown",
   "id": "5e6da258",
   "metadata": {},
   "source": [
    "COUNTS=it REturns the non-null values"
   ]
  },
  {
   "cell_type": "code",
   "execution_count": 32,
   "id": "c80837c0",
   "metadata": {},
   "outputs": [
    {
     "data": {
      "text/plain": [
       "np.int64(7)"
      ]
     },
     "execution_count": 32,
     "metadata": {},
     "output_type": "execute_result"
    }
   ],
   "source": [
    "df['Marks'].count()"
   ]
  },
  {
   "cell_type": "markdown",
   "id": "990f8121",
   "metadata": {},
   "source": [
    "LOC VS ILOC"
   ]
  },
  {
   "cell_type": "code",
   "execution_count": 3,
   "id": "765b72c7",
   "metadata": {},
   "outputs": [
    {
     "name": "stdout",
     "output_type": "stream",
     "text": [
      "    Name  Marks Grades\n",
      "0   Nani     98     AA\n",
      "1    sai     89     AB\n",
      "2   soni     99     AA\n",
      "3  Puppy     87     AB\n",
      "4  Milky     90     AC\n",
      "5  Nikki     83     BA\n",
      "6  Sanju     82     BB\n"
     ]
    }
   ],
   "source": [
    "import pandas as pd\n",
    "d={'Name':['Nani','sai','soni','Puppy','Milky','Nikki','Sanju'],\n",
    "    'Marks':[98,89,99,87,90,83,82],\n",
    "    'Grades':['AA','AB','AA','AB','AC','BA','BB']}\n",
    "df=pd.DataFrame(d)\n",
    "print (df)"
   ]
  },
  {
   "cell_type": "markdown",
   "id": "bca8dfdc",
   "metadata": {},
   "source": [
    "LOC: I WANT TO SELECT FIRST ROW WITH ALL COLUMNS:i.e nani,98,AA "
   ]
  },
  {
   "cell_type": "code",
   "execution_count": 7,
   "id": "1ef05d3d",
   "metadata": {},
   "outputs": [
    {
     "data": {
      "text/plain": [
       "Name      Nani\n",
       "Marks       98\n",
       "Grades      AA\n",
       "Name: 0, dtype: object"
      ]
     },
     "execution_count": 7,
     "metadata": {},
     "output_type": "execute_result"
    }
   ],
   "source": [
    "df.loc[0,:]"
   ]
  },
  {
   "cell_type": "markdown",
   "id": "f111ae14",
   "metadata": {},
   "source": [
    "NOW I WANT TO PRINT FIRST 3 rows and all 3 colums"
   ]
  },
  {
   "cell_type": "code",
   "execution_count": 9,
   "id": "d3411f5e",
   "metadata": {},
   "outputs": [
    {
     "data": {
      "text/html": [
       "<div>\n",
       "<style scoped>\n",
       "    .dataframe tbody tr th:only-of-type {\n",
       "        vertical-align: middle;\n",
       "    }\n",
       "\n",
       "    .dataframe tbody tr th {\n",
       "        vertical-align: top;\n",
       "    }\n",
       "\n",
       "    .dataframe thead th {\n",
       "        text-align: right;\n",
       "    }\n",
       "</style>\n",
       "<table border=\"1\" class=\"dataframe\">\n",
       "  <thead>\n",
       "    <tr style=\"text-align: right;\">\n",
       "      <th></th>\n",
       "      <th>Name</th>\n",
       "      <th>Marks</th>\n",
       "      <th>Grades</th>\n",
       "    </tr>\n",
       "  </thead>\n",
       "  <tbody>\n",
       "    <tr>\n",
       "      <th>0</th>\n",
       "      <td>Nani</td>\n",
       "      <td>98</td>\n",
       "      <td>AA</td>\n",
       "    </tr>\n",
       "    <tr>\n",
       "      <th>1</th>\n",
       "      <td>sai</td>\n",
       "      <td>89</td>\n",
       "      <td>AB</td>\n",
       "    </tr>\n",
       "    <tr>\n",
       "      <th>2</th>\n",
       "      <td>soni</td>\n",
       "      <td>99</td>\n",
       "      <td>AA</td>\n",
       "    </tr>\n",
       "    <tr>\n",
       "      <th>3</th>\n",
       "      <td>Puppy</td>\n",
       "      <td>87</td>\n",
       "      <td>AB</td>\n",
       "    </tr>\n",
       "  </tbody>\n",
       "</table>\n",
       "</div>"
      ],
      "text/plain": [
       "    Name  Marks Grades\n",
       "0   Nani     98     AA\n",
       "1    sai     89     AB\n",
       "2   soni     99     AA\n",
       "3  Puppy     87     AB"
      ]
     },
     "execution_count": 9,
     "metadata": {},
     "output_type": "execute_result"
    }
   ],
   "source": [
    "df.loc[0:3,:]"
   ]
  },
  {
   "cell_type": "markdown",
   "id": "c9cd0249",
   "metadata": {},
   "source": [
    "ALL ROWS OF NAME COLUMS IN THE LOC METHOD"
   ]
  },
  {
   "cell_type": "code",
   "execution_count": 10,
   "id": "7a29f520",
   "metadata": {},
   "outputs": [
    {
     "data": {
      "text/plain": [
       "0     Nani\n",
       "1      sai\n",
       "2     soni\n",
       "3    Puppy\n",
       "4    Milky\n",
       "5    Nikki\n",
       "6    Sanju\n",
       "Name: Name, dtype: object"
      ]
     },
     "execution_count": 10,
     "metadata": {},
     "output_type": "execute_result"
    }
   ],
   "source": [
    "df.loc[:,'Name']"
   ]
  },
  {
   "cell_type": "markdown",
   "id": "19874d9d",
   "metadata": {},
   "source": [
    "ALL ROWS OF NAME,MARKS COLUMNS IN LOC METHOD"
   ]
  },
  {
   "cell_type": "code",
   "execution_count": 12,
   "id": "99318cd5",
   "metadata": {},
   "outputs": [
    {
     "data": {
      "text/html": [
       "<div>\n",
       "<style scoped>\n",
       "    .dataframe tbody tr th:only-of-type {\n",
       "        vertical-align: middle;\n",
       "    }\n",
       "\n",
       "    .dataframe tbody tr th {\n",
       "        vertical-align: top;\n",
       "    }\n",
       "\n",
       "    .dataframe thead th {\n",
       "        text-align: right;\n",
       "    }\n",
       "</style>\n",
       "<table border=\"1\" class=\"dataframe\">\n",
       "  <thead>\n",
       "    <tr style=\"text-align: right;\">\n",
       "      <th></th>\n",
       "      <th>Name</th>\n",
       "      <th>Marks</th>\n",
       "    </tr>\n",
       "  </thead>\n",
       "  <tbody>\n",
       "    <tr>\n",
       "      <th>0</th>\n",
       "      <td>Nani</td>\n",
       "      <td>98</td>\n",
       "    </tr>\n",
       "    <tr>\n",
       "      <th>1</th>\n",
       "      <td>sai</td>\n",
       "      <td>89</td>\n",
       "    </tr>\n",
       "    <tr>\n",
       "      <th>2</th>\n",
       "      <td>soni</td>\n",
       "      <td>99</td>\n",
       "    </tr>\n",
       "    <tr>\n",
       "      <th>3</th>\n",
       "      <td>Puppy</td>\n",
       "      <td>87</td>\n",
       "    </tr>\n",
       "    <tr>\n",
       "      <th>4</th>\n",
       "      <td>Milky</td>\n",
       "      <td>90</td>\n",
       "    </tr>\n",
       "    <tr>\n",
       "      <th>5</th>\n",
       "      <td>Nikki</td>\n",
       "      <td>83</td>\n",
       "    </tr>\n",
       "    <tr>\n",
       "      <th>6</th>\n",
       "      <td>Sanju</td>\n",
       "      <td>82</td>\n",
       "    </tr>\n",
       "  </tbody>\n",
       "</table>\n",
       "</div>"
      ],
      "text/plain": [
       "    Name  Marks\n",
       "0   Nani     98\n",
       "1    sai     89\n",
       "2   soni     99\n",
       "3  Puppy     87\n",
       "4  Milky     90\n",
       "5  Nikki     83\n",
       "6  Sanju     82"
      ]
     },
     "execution_count": 12,
     "metadata": {},
     "output_type": "execute_result"
    }
   ],
   "source": [
    "df.loc[:,['Name','Marks']]"
   ]
  },
  {
   "cell_type": "markdown",
   "id": "20c940f6",
   "metadata": {},
   "source": [
    "I WANT ALL ROWS & ALL COLUMNS IN LOC METHOD"
   ]
  },
  {
   "cell_type": "code",
   "execution_count": 13,
   "id": "d3d5dc45",
   "metadata": {},
   "outputs": [
    {
     "data": {
      "text/html": [
       "<div>\n",
       "<style scoped>\n",
       "    .dataframe tbody tr th:only-of-type {\n",
       "        vertical-align: middle;\n",
       "    }\n",
       "\n",
       "    .dataframe tbody tr th {\n",
       "        vertical-align: top;\n",
       "    }\n",
       "\n",
       "    .dataframe thead th {\n",
       "        text-align: right;\n",
       "    }\n",
       "</style>\n",
       "<table border=\"1\" class=\"dataframe\">\n",
       "  <thead>\n",
       "    <tr style=\"text-align: right;\">\n",
       "      <th></th>\n",
       "      <th>Name</th>\n",
       "      <th>Marks</th>\n",
       "      <th>Grades</th>\n",
       "    </tr>\n",
       "  </thead>\n",
       "  <tbody>\n",
       "    <tr>\n",
       "      <th>0</th>\n",
       "      <td>Nani</td>\n",
       "      <td>98</td>\n",
       "      <td>AA</td>\n",
       "    </tr>\n",
       "    <tr>\n",
       "      <th>1</th>\n",
       "      <td>sai</td>\n",
       "      <td>89</td>\n",
       "      <td>AB</td>\n",
       "    </tr>\n",
       "    <tr>\n",
       "      <th>2</th>\n",
       "      <td>soni</td>\n",
       "      <td>99</td>\n",
       "      <td>AA</td>\n",
       "    </tr>\n",
       "    <tr>\n",
       "      <th>3</th>\n",
       "      <td>Puppy</td>\n",
       "      <td>87</td>\n",
       "      <td>AB</td>\n",
       "    </tr>\n",
       "    <tr>\n",
       "      <th>4</th>\n",
       "      <td>Milky</td>\n",
       "      <td>90</td>\n",
       "      <td>AC</td>\n",
       "    </tr>\n",
       "    <tr>\n",
       "      <th>5</th>\n",
       "      <td>Nikki</td>\n",
       "      <td>83</td>\n",
       "      <td>BA</td>\n",
       "    </tr>\n",
       "    <tr>\n",
       "      <th>6</th>\n",
       "      <td>Sanju</td>\n",
       "      <td>82</td>\n",
       "      <td>BB</td>\n",
       "    </tr>\n",
       "  </tbody>\n",
       "</table>\n",
       "</div>"
      ],
      "text/plain": [
       "    Name  Marks Grades\n",
       "0   Nani     98     AA\n",
       "1    sai     89     AB\n",
       "2   soni     99     AA\n",
       "3  Puppy     87     AB\n",
       "4  Milky     90     AC\n",
       "5  Nikki     83     BA\n",
       "6  Sanju     82     BB"
      ]
     },
     "execution_count": 13,
     "metadata": {},
     "output_type": "execute_result"
    }
   ],
   "source": [
    "df.loc[:,'Name':]"
   ]
  },
  {
   "cell_type": "markdown",
   "id": "6df7ad06",
   "metadata": {},
   "source": [
    "ILOC"
   ]
  },
  {
   "cell_type": "code",
   "execution_count": 15,
   "id": "b7760d0a",
   "metadata": {},
   "outputs": [
    {
     "data": {
      "text/plain": [
       "0     Nani\n",
       "1      sai\n",
       "2     soni\n",
       "3    Puppy\n",
       "4    Milky\n",
       "5    Nikki\n",
       "6    Sanju\n",
       "Name: Name, dtype: object"
      ]
     },
     "execution_count": 15,
     "metadata": {},
     "output_type": "execute_result"
    }
   ],
   "source": [
    "df.iloc[:,0]"
   ]
  },
  {
   "cell_type": "markdown",
   "id": "a4d48b25",
   "metadata": {},
   "source": [
    "I want all the rows and Name,marks only in columns for iloc"
   ]
  },
  {
   "cell_type": "code",
   "execution_count": 16,
   "id": "2a06432f",
   "metadata": {},
   "outputs": [
    {
     "data": {
      "text/html": [
       "<div>\n",
       "<style scoped>\n",
       "    .dataframe tbody tr th:only-of-type {\n",
       "        vertical-align: middle;\n",
       "    }\n",
       "\n",
       "    .dataframe tbody tr th {\n",
       "        vertical-align: top;\n",
       "    }\n",
       "\n",
       "    .dataframe thead th {\n",
       "        text-align: right;\n",
       "    }\n",
       "</style>\n",
       "<table border=\"1\" class=\"dataframe\">\n",
       "  <thead>\n",
       "    <tr style=\"text-align: right;\">\n",
       "      <th></th>\n",
       "      <th>Name</th>\n",
       "      <th>Marks</th>\n",
       "    </tr>\n",
       "  </thead>\n",
       "  <tbody>\n",
       "    <tr>\n",
       "      <th>0</th>\n",
       "      <td>Nani</td>\n",
       "      <td>98</td>\n",
       "    </tr>\n",
       "    <tr>\n",
       "      <th>1</th>\n",
       "      <td>sai</td>\n",
       "      <td>89</td>\n",
       "    </tr>\n",
       "    <tr>\n",
       "      <th>2</th>\n",
       "      <td>soni</td>\n",
       "      <td>99</td>\n",
       "    </tr>\n",
       "    <tr>\n",
       "      <th>3</th>\n",
       "      <td>Puppy</td>\n",
       "      <td>87</td>\n",
       "    </tr>\n",
       "    <tr>\n",
       "      <th>4</th>\n",
       "      <td>Milky</td>\n",
       "      <td>90</td>\n",
       "    </tr>\n",
       "    <tr>\n",
       "      <th>5</th>\n",
       "      <td>Nikki</td>\n",
       "      <td>83</td>\n",
       "    </tr>\n",
       "    <tr>\n",
       "      <th>6</th>\n",
       "      <td>Sanju</td>\n",
       "      <td>82</td>\n",
       "    </tr>\n",
       "  </tbody>\n",
       "</table>\n",
       "</div>"
      ],
      "text/plain": [
       "    Name  Marks\n",
       "0   Nani     98\n",
       "1    sai     89\n",
       "2   soni     99\n",
       "3  Puppy     87\n",
       "4  Milky     90\n",
       "5  Nikki     83\n",
       "6  Sanju     82"
      ]
     },
     "execution_count": 16,
     "metadata": {},
     "output_type": "execute_result"
    }
   ],
   "source": [
    "df.iloc[:,0:2]"
   ]
  },
  {
   "cell_type": "code",
   "execution_count": 1,
   "id": "9e29dabd",
   "metadata": {},
   "outputs": [
    {
     "name": "stdout",
     "output_type": "stream",
     "text": [
      "       Name  Marks Grades\n",
      "stu1   Nani     98     AA\n",
      "stu2    sai     89     AB\n",
      "stu3   soni     99     AA\n",
      "stu4  Puppy     87     AB\n",
      "stu5  Milky     90     AC\n",
      "stu6  Nikki     83     BA\n",
      "stu7  Sanju     82     BB\n"
     ]
    }
   ],
   "source": [
    "import pandas as pd\n",
    "d={'Name':['Nani','sai','soni','Puppy','Milky','Nikki','Sanju'],\n",
    "    'Marks':[98,89,99,87,90,83,82],\n",
    "    'Grades':['AA','AB','AA','AB','AC','BA','BB']}\n",
    "df=pd.DataFrame(d,index=['stu1','stu2','stu3','stu4','stu5','stu6','stu7'])\n",
    "print (df)"
   ]
  },
  {
   "cell_type": "markdown",
   "id": "b7321020",
   "metadata": {},
   "source": [
    "NAME,MARKS&GRADES OF STU1,STUD2 LOC METHOD"
   ]
  },
  {
   "cell_type": "code",
   "execution_count": 2,
   "id": "0dfa18a7",
   "metadata": {},
   "outputs": [
    {
     "data": {
      "text/html": [
       "<div>\n",
       "<style scoped>\n",
       "    .dataframe tbody tr th:only-of-type {\n",
       "        vertical-align: middle;\n",
       "    }\n",
       "\n",
       "    .dataframe tbody tr th {\n",
       "        vertical-align: top;\n",
       "    }\n",
       "\n",
       "    .dataframe thead th {\n",
       "        text-align: right;\n",
       "    }\n",
       "</style>\n",
       "<table border=\"1\" class=\"dataframe\">\n",
       "  <thead>\n",
       "    <tr style=\"text-align: right;\">\n",
       "      <th></th>\n",
       "      <th>Name</th>\n",
       "      <th>Marks</th>\n",
       "      <th>Grades</th>\n",
       "    </tr>\n",
       "  </thead>\n",
       "  <tbody>\n",
       "    <tr>\n",
       "      <th>stu1</th>\n",
       "      <td>Nani</td>\n",
       "      <td>98</td>\n",
       "      <td>AA</td>\n",
       "    </tr>\n",
       "    <tr>\n",
       "      <th>stu2</th>\n",
       "      <td>sai</td>\n",
       "      <td>89</td>\n",
       "      <td>AB</td>\n",
       "    </tr>\n",
       "  </tbody>\n",
       "</table>\n",
       "</div>"
      ],
      "text/plain": [
       "      Name  Marks Grades\n",
       "stu1  Nani     98     AA\n",
       "stu2   sai     89     AB"
      ]
     },
     "execution_count": 2,
     "metadata": {},
     "output_type": "execute_result"
    }
   ],
   "source": [
    "df.loc[['stu1','stu2'],:]"
   ]
  },
  {
   "cell_type": "markdown",
   "id": "f7cc2ad4",
   "metadata": {},
   "source": [
    "#ONLY NAME OF STU1 TO STU4"
   ]
  },
  {
   "cell_type": "code",
   "execution_count": 3,
   "id": "4754f3e7",
   "metadata": {},
   "outputs": [
    {
     "data": {
      "text/plain": [
       "stu1     Nani\n",
       "stu2      sai\n",
       "stu3     soni\n",
       "stu4    Puppy\n",
       "Name: Name, dtype: object"
      ]
     },
     "execution_count": 3,
     "metadata": {},
     "output_type": "execute_result"
    }
   ],
   "source": [
    "df.loc['stu1':'stu4','Name']"
   ]
  },
  {
   "cell_type": "markdown",
   "id": "49052ecc",
   "metadata": {},
   "source": [
    "ILOC WE CAN ACCESS ROW & COLUMN uSING INDEX POSITION"
   ]
  },
  {
   "cell_type": "markdown",
   "id": "e3e1d033",
   "metadata": {},
   "source": [
    "# NAME AND MARKS OF STU1,STU2 USING ILOC"
   ]
  },
  {
   "cell_type": "code",
   "execution_count": 4,
   "id": "9c6a95e0",
   "metadata": {},
   "outputs": [
    {
     "data": {
      "text/html": [
       "<div>\n",
       "<style scoped>\n",
       "    .dataframe tbody tr th:only-of-type {\n",
       "        vertical-align: middle;\n",
       "    }\n",
       "\n",
       "    .dataframe tbody tr th {\n",
       "        vertical-align: top;\n",
       "    }\n",
       "\n",
       "    .dataframe thead th {\n",
       "        text-align: right;\n",
       "    }\n",
       "</style>\n",
       "<table border=\"1\" class=\"dataframe\">\n",
       "  <thead>\n",
       "    <tr style=\"text-align: right;\">\n",
       "      <th></th>\n",
       "      <th>Name</th>\n",
       "      <th>Marks</th>\n",
       "    </tr>\n",
       "  </thead>\n",
       "  <tbody>\n",
       "    <tr>\n",
       "      <th>stu1</th>\n",
       "      <td>Nani</td>\n",
       "      <td>98</td>\n",
       "    </tr>\n",
       "    <tr>\n",
       "      <th>stu2</th>\n",
       "      <td>sai</td>\n",
       "      <td>89</td>\n",
       "    </tr>\n",
       "  </tbody>\n",
       "</table>\n",
       "</div>"
      ],
      "text/plain": [
       "      Name  Marks\n",
       "stu1  Nani     98\n",
       "stu2   sai     89"
      ]
     },
     "execution_count": 4,
     "metadata": {},
     "output_type": "execute_result"
    }
   ],
   "source": [
    "df.iloc[[0,1],[0,1]]"
   ]
  },
  {
   "cell_type": "markdown",
   "id": "a164706a",
   "metadata": {},
   "source": [
    "NAME ,MARKS & GRADES OF STU1,STU2,STU3 BY USING ILOC METHOD"
   ]
  },
  {
   "cell_type": "code",
   "execution_count": 5,
   "id": "f0f67b8a",
   "metadata": {},
   "outputs": [
    {
     "data": {
      "text/html": [
       "<div>\n",
       "<style scoped>\n",
       "    .dataframe tbody tr th:only-of-type {\n",
       "        vertical-align: middle;\n",
       "    }\n",
       "\n",
       "    .dataframe tbody tr th {\n",
       "        vertical-align: top;\n",
       "    }\n",
       "\n",
       "    .dataframe thead th {\n",
       "        text-align: right;\n",
       "    }\n",
       "</style>\n",
       "<table border=\"1\" class=\"dataframe\">\n",
       "  <thead>\n",
       "    <tr style=\"text-align: right;\">\n",
       "      <th></th>\n",
       "      <th>Name</th>\n",
       "      <th>Marks</th>\n",
       "      <th>Grades</th>\n",
       "    </tr>\n",
       "  </thead>\n",
       "  <tbody>\n",
       "    <tr>\n",
       "      <th>stu1</th>\n",
       "      <td>Nani</td>\n",
       "      <td>98</td>\n",
       "      <td>AA</td>\n",
       "    </tr>\n",
       "    <tr>\n",
       "      <th>stu2</th>\n",
       "      <td>sai</td>\n",
       "      <td>89</td>\n",
       "      <td>AB</td>\n",
       "    </tr>\n",
       "    <tr>\n",
       "      <th>stu3</th>\n",
       "      <td>soni</td>\n",
       "      <td>99</td>\n",
       "      <td>AA</td>\n",
       "    </tr>\n",
       "  </tbody>\n",
       "</table>\n",
       "</div>"
      ],
      "text/plain": [
       "      Name  Marks Grades\n",
       "stu1  Nani     98     AA\n",
       "stu2   sai     89     AB\n",
       "stu3  soni     99     AA"
      ]
     },
     "execution_count": 5,
     "metadata": {},
     "output_type": "execute_result"
    }
   ],
   "source": [
    "df.iloc[0:3,:]"
   ]
  },
  {
   "cell_type": "code",
   "execution_count": 6,
   "id": "ae757edf",
   "metadata": {},
   "outputs": [
    {
     "data": {
      "text/plain": [
       "'2.2.3'"
      ]
     },
     "execution_count": 6,
     "metadata": {},
     "output_type": "execute_result"
    }
   ],
   "source": [
    "pd.__version__"
   ]
  },
  {
   "cell_type": "markdown",
   "id": "9907452a",
   "metadata": {},
   "source": [
    "#LOC VS ILOC VS IAT VS AT"
   ]
  },
  {
   "cell_type": "code",
   "execution_count": 8,
   "id": "d973f69f",
   "metadata": {},
   "outputs": [
    {
     "data": {
      "text/html": [
       "<div>\n",
       "<style scoped>\n",
       "    .dataframe tbody tr th:only-of-type {\n",
       "        vertical-align: middle;\n",
       "    }\n",
       "\n",
       "    .dataframe tbody tr th {\n",
       "        vertical-align: top;\n",
       "    }\n",
       "\n",
       "    .dataframe thead th {\n",
       "        text-align: right;\n",
       "    }\n",
       "</style>\n",
       "<table border=\"1\" class=\"dataframe\">\n",
       "  <thead>\n",
       "    <tr style=\"text-align: right;\">\n",
       "      <th></th>\n",
       "      <th>Name</th>\n",
       "      <th>Marks</th>\n",
       "      <th>Grade</th>\n",
       "    </tr>\n",
       "  </thead>\n",
       "  <tbody>\n",
       "    <tr>\n",
       "      <th>stu1</th>\n",
       "      <td>Ramya</td>\n",
       "      <td>98</td>\n",
       "      <td>AA</td>\n",
       "    </tr>\n",
       "    <tr>\n",
       "      <th>stu2</th>\n",
       "      <td>Devi</td>\n",
       "      <td>89</td>\n",
       "      <td>AB</td>\n",
       "    </tr>\n",
       "    <tr>\n",
       "      <th>stu3</th>\n",
       "      <td>Sanju</td>\n",
       "      <td>99</td>\n",
       "      <td>AA</td>\n",
       "    </tr>\n",
       "    <tr>\n",
       "      <th>stu4</th>\n",
       "      <td>Teja</td>\n",
       "      <td>87</td>\n",
       "      <td>AB</td>\n",
       "    </tr>\n",
       "    <tr>\n",
       "      <th>stu5</th>\n",
       "      <td>Navya</td>\n",
       "      <td>90</td>\n",
       "      <td>AC</td>\n",
       "    </tr>\n",
       "    <tr>\n",
       "      <th>stu6</th>\n",
       "      <td>Priya</td>\n",
       "      <td>83</td>\n",
       "      <td>BA</td>\n",
       "    </tr>\n",
       "    <tr>\n",
       "      <th>stu7</th>\n",
       "      <td>Divi</td>\n",
       "      <td>82</td>\n",
       "      <td>BB</td>\n",
       "    </tr>\n",
       "  </tbody>\n",
       "</table>\n",
       "</div>"
      ],
      "text/plain": [
       "       Name  Marks Grade\n",
       "stu1  Ramya     98    AA\n",
       "stu2   Devi     89    AB\n",
       "stu3  Sanju     99    AA\n",
       "stu4   Teja     87    AB\n",
       "stu5  Navya     90    AC\n",
       "stu6  Priya     83    BA\n",
       "stu7   Divi     82    BB"
      ]
     },
     "execution_count": 8,
     "metadata": {},
     "output_type": "execute_result"
    }
   ],
   "source": [
    "import pandas as pd\n",
    "d={'Name':['Ramya','Devi','Sanju','Teja','Navya','Priya','Divi'],\n",
    "   'Marks':[98,89,99,87,90,83,82],\n",
    "   'Grade':['AA','AB','AA','AB','AC','BA','BB']}\n",
    "df=pd.DataFrame(d,index=['stu1','stu2','stu3','stu4','stu5','stu6','stu7'])\n",
    "df"
   ]
  },
  {
   "cell_type": "markdown",
   "id": "6132b322",
   "metadata": {},
   "source": [
    "# LOC = ACESSING A GROUP OF ROWS & COLUMNS BY LABLE(S)"
   ]
  },
  {
   "cell_type": "markdown",
   "id": "9765964f",
   "metadata": {},
   "source": [
    " 1.NAME,MARKS & GRADES OF STU1 AND STU2"
   ]
  },
  {
   "cell_type": "code",
   "execution_count": 10,
   "id": "f7f13f66",
   "metadata": {},
   "outputs": [
    {
     "data": {
      "text/html": [
       "<div>\n",
       "<style scoped>\n",
       "    .dataframe tbody tr th:only-of-type {\n",
       "        vertical-align: middle;\n",
       "    }\n",
       "\n",
       "    .dataframe tbody tr th {\n",
       "        vertical-align: top;\n",
       "    }\n",
       "\n",
       "    .dataframe thead th {\n",
       "        text-align: right;\n",
       "    }\n",
       "</style>\n",
       "<table border=\"1\" class=\"dataframe\">\n",
       "  <thead>\n",
       "    <tr style=\"text-align: right;\">\n",
       "      <th></th>\n",
       "      <th>Name</th>\n",
       "      <th>Marks</th>\n",
       "      <th>Grade</th>\n",
       "    </tr>\n",
       "  </thead>\n",
       "  <tbody>\n",
       "    <tr>\n",
       "      <th>stu1</th>\n",
       "      <td>Ramya</td>\n",
       "      <td>98</td>\n",
       "      <td>AA</td>\n",
       "    </tr>\n",
       "    <tr>\n",
       "      <th>stu2</th>\n",
       "      <td>Devi</td>\n",
       "      <td>89</td>\n",
       "      <td>AB</td>\n",
       "    </tr>\n",
       "  </tbody>\n",
       "</table>\n",
       "</div>"
      ],
      "text/plain": [
       "       Name  Marks Grade\n",
       "stu1  Ramya     98    AA\n",
       "stu2   Devi     89    AB"
      ]
     },
     "execution_count": 10,
     "metadata": {},
     "output_type": "execute_result"
    }
   ],
   "source": [
    "df.loc[['stu1','stu2'],:]"
   ]
  },
  {
   "cell_type": "markdown",
   "id": "b3c32523",
   "metadata": {},
   "source": [
    "2.NAME,MARKS & GRADES OF STU1,STU3,STU5"
   ]
  },
  {
   "cell_type": "code",
   "execution_count": 12,
   "id": "4a104708",
   "metadata": {},
   "outputs": [
    {
     "data": {
      "text/html": [
       "<div>\n",
       "<style scoped>\n",
       "    .dataframe tbody tr th:only-of-type {\n",
       "        vertical-align: middle;\n",
       "    }\n",
       "\n",
       "    .dataframe tbody tr th {\n",
       "        vertical-align: top;\n",
       "    }\n",
       "\n",
       "    .dataframe thead th {\n",
       "        text-align: right;\n",
       "    }\n",
       "</style>\n",
       "<table border=\"1\" class=\"dataframe\">\n",
       "  <thead>\n",
       "    <tr style=\"text-align: right;\">\n",
       "      <th></th>\n",
       "      <th>Name</th>\n",
       "      <th>Grade</th>\n",
       "    </tr>\n",
       "  </thead>\n",
       "  <tbody>\n",
       "    <tr>\n",
       "      <th>stu1</th>\n",
       "      <td>Ramya</td>\n",
       "      <td>AA</td>\n",
       "    </tr>\n",
       "    <tr>\n",
       "      <th>stu3</th>\n",
       "      <td>Sanju</td>\n",
       "      <td>AA</td>\n",
       "    </tr>\n",
       "    <tr>\n",
       "      <th>stu5</th>\n",
       "      <td>Navya</td>\n",
       "      <td>AC</td>\n",
       "    </tr>\n",
       "  </tbody>\n",
       "</table>\n",
       "</div>"
      ],
      "text/plain": [
       "       Name Grade\n",
       "stu1  Ramya    AA\n",
       "stu3  Sanju    AA\n",
       "stu5  Navya    AC"
      ]
     },
     "execution_count": 12,
     "metadata": {},
     "output_type": "execute_result"
    }
   ],
   "source": [
    "df.loc[['stu1','stu3','stu5'],['Name','Grade']]"
   ]
  },
  {
   "cell_type": "markdown",
   "id": "a3ba2df6",
   "metadata": {},
   "source": [
    "3.NAME ,MARKS & GRADES OF STU1 TO STU7"
   ]
  },
  {
   "cell_type": "code",
   "execution_count": 13,
   "id": "70b1d8aa",
   "metadata": {},
   "outputs": [
    {
     "data": {
      "text/html": [
       "<div>\n",
       "<style scoped>\n",
       "    .dataframe tbody tr th:only-of-type {\n",
       "        vertical-align: middle;\n",
       "    }\n",
       "\n",
       "    .dataframe tbody tr th {\n",
       "        vertical-align: top;\n",
       "    }\n",
       "\n",
       "    .dataframe thead th {\n",
       "        text-align: right;\n",
       "    }\n",
       "</style>\n",
       "<table border=\"1\" class=\"dataframe\">\n",
       "  <thead>\n",
       "    <tr style=\"text-align: right;\">\n",
       "      <th></th>\n",
       "      <th>Name</th>\n",
       "      <th>Marks</th>\n",
       "      <th>Grade</th>\n",
       "    </tr>\n",
       "  </thead>\n",
       "  <tbody>\n",
       "    <tr>\n",
       "      <th>stu1</th>\n",
       "      <td>Ramya</td>\n",
       "      <td>98</td>\n",
       "      <td>AA</td>\n",
       "    </tr>\n",
       "    <tr>\n",
       "      <th>stu2</th>\n",
       "      <td>Devi</td>\n",
       "      <td>89</td>\n",
       "      <td>AB</td>\n",
       "    </tr>\n",
       "    <tr>\n",
       "      <th>stu3</th>\n",
       "      <td>Sanju</td>\n",
       "      <td>99</td>\n",
       "      <td>AA</td>\n",
       "    </tr>\n",
       "    <tr>\n",
       "      <th>stu4</th>\n",
       "      <td>Teja</td>\n",
       "      <td>87</td>\n",
       "      <td>AB</td>\n",
       "    </tr>\n",
       "    <tr>\n",
       "      <th>stu5</th>\n",
       "      <td>Navya</td>\n",
       "      <td>90</td>\n",
       "      <td>AC</td>\n",
       "    </tr>\n",
       "    <tr>\n",
       "      <th>stu6</th>\n",
       "      <td>Priya</td>\n",
       "      <td>83</td>\n",
       "      <td>BA</td>\n",
       "    </tr>\n",
       "    <tr>\n",
       "      <th>stu7</th>\n",
       "      <td>Divi</td>\n",
       "      <td>82</td>\n",
       "      <td>BB</td>\n",
       "    </tr>\n",
       "  </tbody>\n",
       "</table>\n",
       "</div>"
      ],
      "text/plain": [
       "       Name  Marks Grade\n",
       "stu1  Ramya     98    AA\n",
       "stu2   Devi     89    AB\n",
       "stu3  Sanju     99    AA\n",
       "stu4   Teja     87    AB\n",
       "stu5  Navya     90    AC\n",
       "stu6  Priya     83    BA\n",
       "stu7   Divi     82    BB"
      ]
     },
     "execution_count": 13,
     "metadata": {},
     "output_type": "execute_result"
    }
   ],
   "source": [
    "df.loc['stu1':'stu7',:]"
   ]
  },
  {
   "cell_type": "markdown",
   "id": "238334e6",
   "metadata": {},
   "source": [
    "ILOC =ACESSING  A GROUP OF ROWS AND COLUMNS BY INTEGER POSITION"
   ]
  },
  {
   "cell_type": "markdown",
   "id": "86f53b21",
   "metadata": {},
   "source": [
    " 1.NAMES,MARKS & GRADES OF stu1 & stu2"
   ]
  },
  {
   "cell_type": "code",
   "execution_count": 14,
   "id": "5e0772ba",
   "metadata": {},
   "outputs": [
    {
     "data": {
      "text/html": [
       "<div>\n",
       "<style scoped>\n",
       "    .dataframe tbody tr th:only-of-type {\n",
       "        vertical-align: middle;\n",
       "    }\n",
       "\n",
       "    .dataframe tbody tr th {\n",
       "        vertical-align: top;\n",
       "    }\n",
       "\n",
       "    .dataframe thead th {\n",
       "        text-align: right;\n",
       "    }\n",
       "</style>\n",
       "<table border=\"1\" class=\"dataframe\">\n",
       "  <thead>\n",
       "    <tr style=\"text-align: right;\">\n",
       "      <th></th>\n",
       "      <th>Name</th>\n",
       "      <th>Marks</th>\n",
       "      <th>Grade</th>\n",
       "    </tr>\n",
       "  </thead>\n",
       "  <tbody>\n",
       "    <tr>\n",
       "      <th>stu1</th>\n",
       "      <td>Ramya</td>\n",
       "      <td>98</td>\n",
       "      <td>AA</td>\n",
       "    </tr>\n",
       "    <tr>\n",
       "      <th>stu2</th>\n",
       "      <td>Devi</td>\n",
       "      <td>89</td>\n",
       "      <td>AB</td>\n",
       "    </tr>\n",
       "  </tbody>\n",
       "</table>\n",
       "</div>"
      ],
      "text/plain": [
       "       Name  Marks Grade\n",
       "stu1  Ramya     98    AA\n",
       "stu2   Devi     89    AB"
      ]
     },
     "execution_count": 14,
     "metadata": {},
     "output_type": "execute_result"
    }
   ],
   "source": [
    "df.iloc[[0,1],:]"
   ]
  },
  {
   "cell_type": "markdown",
   "id": "a81abd74",
   "metadata": {},
   "source": [
    " 2.NAMES & GRADES OF STU1,STU3,STU5"
   ]
  },
  {
   "cell_type": "code",
   "execution_count": 15,
   "id": "bbe41cae",
   "metadata": {},
   "outputs": [
    {
     "data": {
      "text/html": [
       "<div>\n",
       "<style scoped>\n",
       "    .dataframe tbody tr th:only-of-type {\n",
       "        vertical-align: middle;\n",
       "    }\n",
       "\n",
       "    .dataframe tbody tr th {\n",
       "        vertical-align: top;\n",
       "    }\n",
       "\n",
       "    .dataframe thead th {\n",
       "        text-align: right;\n",
       "    }\n",
       "</style>\n",
       "<table border=\"1\" class=\"dataframe\">\n",
       "  <thead>\n",
       "    <tr style=\"text-align: right;\">\n",
       "      <th></th>\n",
       "      <th>Name</th>\n",
       "      <th>Grade</th>\n",
       "    </tr>\n",
       "  </thead>\n",
       "  <tbody>\n",
       "    <tr>\n",
       "      <th>stu1</th>\n",
       "      <td>Ramya</td>\n",
       "      <td>AA</td>\n",
       "    </tr>\n",
       "    <tr>\n",
       "      <th>stu3</th>\n",
       "      <td>Sanju</td>\n",
       "      <td>AA</td>\n",
       "    </tr>\n",
       "    <tr>\n",
       "      <th>stu5</th>\n",
       "      <td>Navya</td>\n",
       "      <td>AC</td>\n",
       "    </tr>\n",
       "  </tbody>\n",
       "</table>\n",
       "</div>"
      ],
      "text/plain": [
       "       Name Grade\n",
       "stu1  Ramya    AA\n",
       "stu3  Sanju    AA\n",
       "stu5  Navya    AC"
      ]
     },
     "execution_count": 15,
     "metadata": {},
     "output_type": "execute_result"
    }
   ],
   "source": [
    "df.iloc[[0,2,4],[0,2]]"
   ]
  },
  {
   "cell_type": "markdown",
   "id": "960e8e73",
   "metadata": {},
   "source": [
    "3.NAMES,MARKS,GRADES OF STU1 TO STU7"
   ]
  },
  {
   "cell_type": "code",
   "execution_count": 17,
   "id": "fd7e8dd1",
   "metadata": {},
   "outputs": [
    {
     "data": {
      "text/html": [
       "<div>\n",
       "<style scoped>\n",
       "    .dataframe tbody tr th:only-of-type {\n",
       "        vertical-align: middle;\n",
       "    }\n",
       "\n",
       "    .dataframe tbody tr th {\n",
       "        vertical-align: top;\n",
       "    }\n",
       "\n",
       "    .dataframe thead th {\n",
       "        text-align: right;\n",
       "    }\n",
       "</style>\n",
       "<table border=\"1\" class=\"dataframe\">\n",
       "  <thead>\n",
       "    <tr style=\"text-align: right;\">\n",
       "      <th></th>\n",
       "      <th>Name</th>\n",
       "      <th>Marks</th>\n",
       "      <th>Grade</th>\n",
       "    </tr>\n",
       "  </thead>\n",
       "  <tbody>\n",
       "    <tr>\n",
       "      <th>stu1</th>\n",
       "      <td>Ramya</td>\n",
       "      <td>98</td>\n",
       "      <td>AA</td>\n",
       "    </tr>\n",
       "    <tr>\n",
       "      <th>stu2</th>\n",
       "      <td>Devi</td>\n",
       "      <td>89</td>\n",
       "      <td>AB</td>\n",
       "    </tr>\n",
       "    <tr>\n",
       "      <th>stu3</th>\n",
       "      <td>Sanju</td>\n",
       "      <td>99</td>\n",
       "      <td>AA</td>\n",
       "    </tr>\n",
       "    <tr>\n",
       "      <th>stu4</th>\n",
       "      <td>Teja</td>\n",
       "      <td>87</td>\n",
       "      <td>AB</td>\n",
       "    </tr>\n",
       "    <tr>\n",
       "      <th>stu5</th>\n",
       "      <td>Navya</td>\n",
       "      <td>90</td>\n",
       "      <td>AC</td>\n",
       "    </tr>\n",
       "    <tr>\n",
       "      <th>stu6</th>\n",
       "      <td>Priya</td>\n",
       "      <td>83</td>\n",
       "      <td>BA</td>\n",
       "    </tr>\n",
       "    <tr>\n",
       "      <th>stu7</th>\n",
       "      <td>Divi</td>\n",
       "      <td>82</td>\n",
       "      <td>BB</td>\n",
       "    </tr>\n",
       "  </tbody>\n",
       "</table>\n",
       "</div>"
      ],
      "text/plain": [
       "       Name  Marks Grade\n",
       "stu1  Ramya     98    AA\n",
       "stu2   Devi     89    AB\n",
       "stu3  Sanju     99    AA\n",
       "stu4   Teja     87    AB\n",
       "stu5  Navya     90    AC\n",
       "stu6  Priya     83    BA\n",
       "stu7   Divi     82    BB"
      ]
     },
     "execution_count": 17,
     "metadata": {},
     "output_type": "execute_result"
    }
   ],
   "source": [
    "df.iloc[0:7,0:3]"
   ]
  },
  {
   "cell_type": "markdown",
   "id": "6c66fb83",
   "metadata": {},
   "source": [
    "IAT = USE IAT IF YOU ONLY NEED TO GET OR SET SINGLE VALUE IN A DATA FRAME SERIES"
   ]
  },
  {
   "cell_type": "markdown",
   "id": "dd3b1652",
   "metadata": {},
   "source": [
    "PRINT GRADE OF STU2"
   ]
  },
  {
   "cell_type": "code",
   "execution_count": null,
   "id": "dcfbe627",
   "metadata": {},
   "outputs": [
    {
     "data": {
      "text/plain": [
       "'AB'"
      ]
     },
     "execution_count": 20,
     "metadata": {},
     "output_type": "execute_result"
    }
   ],
   "source": [
    "df.iat[1,2]"
   ]
  },
  {
   "cell_type": "markdown",
   "id": "887f72be",
   "metadata": {},
   "source": [
    "PRINT NAME OF STU5"
   ]
  },
  {
   "cell_type": "code",
   "execution_count": 22,
   "id": "d0e26317",
   "metadata": {},
   "outputs": [
    {
     "data": {
      "text/plain": [
       "'Navya'"
      ]
     },
     "execution_count": 22,
     "metadata": {},
     "output_type": "execute_result"
    }
   ],
   "source": [
    "df.iat[4,0]"
   ]
  },
  {
   "cell_type": "markdown",
   "id": "a2d0621b",
   "metadata": {},
   "source": [
    "SET THE MARKS OF STU5 TO 99"
   ]
  },
  {
   "cell_type": "code",
   "execution_count": 26,
   "id": "d7d9723a",
   "metadata": {},
   "outputs": [
    {
     "name": "stdout",
     "output_type": "stream",
     "text": [
      "       Name  Marks Grade\n",
      "stu1  Ramya     98    AA\n",
      "stu2   Devi     89    AB\n",
      "stu3  Sanju     99    AA\n",
      "stu4   Teja     87    AB\n",
      "stu5  Navya     99    AC\n",
      "stu6  Priya     83    BA\n",
      "stu7   Divi     82    BB\n"
     ]
    }
   ],
   "source": [
    "df.iat[4,1]=99\n",
    "print(df)"
   ]
  },
  {
   "cell_type": "markdown",
   "id": "14955875",
   "metadata": {},
   "source": [
    "AT = USE AT IF YOU ONLY NEED TO GET OR SET SINGLE VALUE IN A DATA FRAME SERIES"
   ]
  },
  {
   "cell_type": "markdown",
   "id": "74e68f94",
   "metadata": {},
   "source": [
    "1.PRINT GRADE OF STU2"
   ]
  },
  {
   "cell_type": "code",
   "execution_count": 30,
   "id": "9e8d4af5",
   "metadata": {},
   "outputs": [
    {
     "data": {
      "text/plain": [
       "'AB'"
      ]
     },
     "execution_count": 30,
     "metadata": {},
     "output_type": "execute_result"
    }
   ],
   "source": [
    "df.at['stu2','Grade']"
   ]
  },
  {
   "cell_type": "markdown",
   "id": "5f9af4dd",
   "metadata": {},
   "source": [
    "SET THE MARKS OF STU5 TO 99"
   ]
  },
  {
   "cell_type": "code",
   "execution_count": 32,
   "id": "e9560019",
   "metadata": {},
   "outputs": [
    {
     "data": {
      "text/html": [
       "<div>\n",
       "<style scoped>\n",
       "    .dataframe tbody tr th:only-of-type {\n",
       "        vertical-align: middle;\n",
       "    }\n",
       "\n",
       "    .dataframe tbody tr th {\n",
       "        vertical-align: top;\n",
       "    }\n",
       "\n",
       "    .dataframe thead th {\n",
       "        text-align: right;\n",
       "    }\n",
       "</style>\n",
       "<table border=\"1\" class=\"dataframe\">\n",
       "  <thead>\n",
       "    <tr style=\"text-align: right;\">\n",
       "      <th></th>\n",
       "      <th>Name</th>\n",
       "      <th>Marks</th>\n",
       "      <th>Grade</th>\n",
       "    </tr>\n",
       "  </thead>\n",
       "  <tbody>\n",
       "    <tr>\n",
       "      <th>stu1</th>\n",
       "      <td>Ramya</td>\n",
       "      <td>98</td>\n",
       "      <td>AA</td>\n",
       "    </tr>\n",
       "    <tr>\n",
       "      <th>stu2</th>\n",
       "      <td>Devi</td>\n",
       "      <td>89</td>\n",
       "      <td>AB</td>\n",
       "    </tr>\n",
       "    <tr>\n",
       "      <th>stu3</th>\n",
       "      <td>Sanju</td>\n",
       "      <td>99</td>\n",
       "      <td>AA</td>\n",
       "    </tr>\n",
       "    <tr>\n",
       "      <th>stu4</th>\n",
       "      <td>Teja</td>\n",
       "      <td>87</td>\n",
       "      <td>AB</td>\n",
       "    </tr>\n",
       "    <tr>\n",
       "      <th>stu5</th>\n",
       "      <td>Navya</td>\n",
       "      <td>100</td>\n",
       "      <td>AC</td>\n",
       "    </tr>\n",
       "    <tr>\n",
       "      <th>stu6</th>\n",
       "      <td>Priya</td>\n",
       "      <td>83</td>\n",
       "      <td>BA</td>\n",
       "    </tr>\n",
       "    <tr>\n",
       "      <th>stu7</th>\n",
       "      <td>Divi</td>\n",
       "      <td>82</td>\n",
       "      <td>BB</td>\n",
       "    </tr>\n",
       "  </tbody>\n",
       "</table>\n",
       "</div>"
      ],
      "text/plain": [
       "       Name  Marks Grade\n",
       "stu1  Ramya     98    AA\n",
       "stu2   Devi     89    AB\n",
       "stu3  Sanju     99    AA\n",
       "stu4   Teja     87    AB\n",
       "stu5  Navya    100    AC\n",
       "stu6  Priya     83    BA\n",
       "stu7   Divi     82    BB"
      ]
     },
     "execution_count": 32,
     "metadata": {},
     "output_type": "execute_result"
    }
   ],
   "source": [
    "df.at['stu5','Marks']=100\n",
    "df"
   ]
  },
  {
   "cell_type": "markdown",
   "id": "7243c4f2",
   "metadata": {},
   "source": [
    "3.PRINT NAME OF STU5"
   ]
  },
  {
   "cell_type": "code",
   "execution_count": 33,
   "id": "23d4bd84",
   "metadata": {},
   "outputs": [
    {
     "data": {
      "text/plain": [
       "'Navya'"
      ]
     },
     "execution_count": 33,
     "metadata": {},
     "output_type": "execute_result"
    }
   ],
   "source": [
    "df.at['stu5','Name']"
   ]
  },
  {
   "cell_type": "markdown",
   "id": "b8ffde8f",
   "metadata": {},
   "source": [
    "LOC AND ILOC  WITH BOOLEAN ARRAY"
   ]
  },
  {
   "cell_type": "markdown",
   "id": "0981df6f",
   "metadata": {},
   "source": [
    "LOC WITH BOLLEAN ARRAY"
   ]
  },
  {
   "cell_type": "code",
   "execution_count": 34,
   "id": "b8adcecb",
   "metadata": {},
   "outputs": [
    {
     "data": {
      "text/html": [
       "<div>\n",
       "<style scoped>\n",
       "    .dataframe tbody tr th:only-of-type {\n",
       "        vertical-align: middle;\n",
       "    }\n",
       "\n",
       "    .dataframe tbody tr th {\n",
       "        vertical-align: top;\n",
       "    }\n",
       "\n",
       "    .dataframe thead th {\n",
       "        text-align: right;\n",
       "    }\n",
       "</style>\n",
       "<table border=\"1\" class=\"dataframe\">\n",
       "  <thead>\n",
       "    <tr style=\"text-align: right;\">\n",
       "      <th></th>\n",
       "      <th>Name</th>\n",
       "      <th>Marks</th>\n",
       "      <th>Grade</th>\n",
       "    </tr>\n",
       "  </thead>\n",
       "  <tbody>\n",
       "    <tr>\n",
       "      <th>stu1</th>\n",
       "      <td>Ramya</td>\n",
       "      <td>98</td>\n",
       "      <td>AA</td>\n",
       "    </tr>\n",
       "    <tr>\n",
       "      <th>stu2</th>\n",
       "      <td>Devi</td>\n",
       "      <td>89</td>\n",
       "      <td>AB</td>\n",
       "    </tr>\n",
       "    <tr>\n",
       "      <th>stu3</th>\n",
       "      <td>Sanju</td>\n",
       "      <td>99</td>\n",
       "      <td>AA</td>\n",
       "    </tr>\n",
       "    <tr>\n",
       "      <th>stu4</th>\n",
       "      <td>Teja</td>\n",
       "      <td>87</td>\n",
       "      <td>AB</td>\n",
       "    </tr>\n",
       "    <tr>\n",
       "      <th>stu5</th>\n",
       "      <td>Navya</td>\n",
       "      <td>100</td>\n",
       "      <td>AC</td>\n",
       "    </tr>\n",
       "    <tr>\n",
       "      <th>stu6</th>\n",
       "      <td>Priya</td>\n",
       "      <td>83</td>\n",
       "      <td>BA</td>\n",
       "    </tr>\n",
       "    <tr>\n",
       "      <th>stu7</th>\n",
       "      <td>Divi</td>\n",
       "      <td>82</td>\n",
       "      <td>BB</td>\n",
       "    </tr>\n",
       "  </tbody>\n",
       "</table>\n",
       "</div>"
      ],
      "text/plain": [
       "       Name  Marks Grade\n",
       "stu1  Ramya     98    AA\n",
       "stu2   Devi     89    AB\n",
       "stu3  Sanju     99    AA\n",
       "stu4   Teja     87    AB\n",
       "stu5  Navya    100    AC\n",
       "stu6  Priya     83    BA\n",
       "stu7   Divi     82    BB"
      ]
     },
     "execution_count": 34,
     "metadata": {},
     "output_type": "execute_result"
    }
   ],
   "source": [
    "df"
   ]
  },
  {
   "cell_type": "markdown",
   "id": "0689b0a9",
   "metadata": {},
   "source": [
    "1.NAME OF STU1 AND STUD4 USING LOC WITH BOLLEAN ARRAY"
   ]
  },
  {
   "cell_type": "code",
   "execution_count": 38,
   "id": "ad97adf1",
   "metadata": {},
   "outputs": [
    {
     "data": {
      "text/html": [
       "<div>\n",
       "<style scoped>\n",
       "    .dataframe tbody tr th:only-of-type {\n",
       "        vertical-align: middle;\n",
       "    }\n",
       "\n",
       "    .dataframe tbody tr th {\n",
       "        vertical-align: top;\n",
       "    }\n",
       "\n",
       "    .dataframe thead th {\n",
       "        text-align: right;\n",
       "    }\n",
       "</style>\n",
       "<table border=\"1\" class=\"dataframe\">\n",
       "  <thead>\n",
       "    <tr style=\"text-align: right;\">\n",
       "      <th></th>\n",
       "      <th>Name</th>\n",
       "    </tr>\n",
       "  </thead>\n",
       "  <tbody>\n",
       "    <tr>\n",
       "      <th>stu1</th>\n",
       "      <td>Ramya</td>\n",
       "    </tr>\n",
       "    <tr>\n",
       "      <th>stu2</th>\n",
       "      <td>Devi</td>\n",
       "    </tr>\n",
       "  </tbody>\n",
       "</table>\n",
       "</div>"
      ],
      "text/plain": [
       "       Name\n",
       "stu1  Ramya\n",
       "stu2   Devi"
      ]
     },
     "execution_count": 38,
     "metadata": {},
     "output_type": "execute_result"
    }
   ],
   "source": [
    "df.loc[[True,True,False,False,False,False,False],[True,False,False]]"
   ]
  },
  {
   "cell_type": "markdown",
   "id": "e005c9a2",
   "metadata": {},
   "source": [
    "2.GRADES OF STU1 AND STU 4"
   ]
  },
  {
   "cell_type": "code",
   "execution_count": 39,
   "id": "60c192ca",
   "metadata": {},
   "outputs": [
    {
     "data": {
      "text/html": [
       "<div>\n",
       "<style scoped>\n",
       "    .dataframe tbody tr th:only-of-type {\n",
       "        vertical-align: middle;\n",
       "    }\n",
       "\n",
       "    .dataframe tbody tr th {\n",
       "        vertical-align: top;\n",
       "    }\n",
       "\n",
       "    .dataframe thead th {\n",
       "        text-align: right;\n",
       "    }\n",
       "</style>\n",
       "<table border=\"1\" class=\"dataframe\">\n",
       "  <thead>\n",
       "    <tr style=\"text-align: right;\">\n",
       "      <th></th>\n",
       "      <th>Grade</th>\n",
       "    </tr>\n",
       "  </thead>\n",
       "  <tbody>\n",
       "    <tr>\n",
       "      <th>stu1</th>\n",
       "      <td>AA</td>\n",
       "    </tr>\n",
       "    <tr>\n",
       "      <th>stu4</th>\n",
       "      <td>AB</td>\n",
       "    </tr>\n",
       "  </tbody>\n",
       "</table>\n",
       "</div>"
      ],
      "text/plain": [
       "     Grade\n",
       "stu1    AA\n",
       "stu4    AB"
      ]
     },
     "execution_count": 39,
     "metadata": {},
     "output_type": "execute_result"
    }
   ],
   "source": [
    "df.loc[[True,False,False,True,False,False,False],[False,False,True]]"
   ]
  },
  {
   "cell_type": "markdown",
   "id": "2f7d9b1f",
   "metadata": {},
   "source": [
    "3.Marks of stu4"
   ]
  },
  {
   "cell_type": "code",
   "execution_count": 40,
   "id": "1e747434",
   "metadata": {},
   "outputs": [
    {
     "data": {
      "text/html": [
       "<div>\n",
       "<style scoped>\n",
       "    .dataframe tbody tr th:only-of-type {\n",
       "        vertical-align: middle;\n",
       "    }\n",
       "\n",
       "    .dataframe tbody tr th {\n",
       "        vertical-align: top;\n",
       "    }\n",
       "\n",
       "    .dataframe thead th {\n",
       "        text-align: right;\n",
       "    }\n",
       "</style>\n",
       "<table border=\"1\" class=\"dataframe\">\n",
       "  <thead>\n",
       "    <tr style=\"text-align: right;\">\n",
       "      <th></th>\n",
       "      <th>Marks</th>\n",
       "    </tr>\n",
       "  </thead>\n",
       "  <tbody>\n",
       "    <tr>\n",
       "      <th>stu4</th>\n",
       "      <td>87</td>\n",
       "    </tr>\n",
       "  </tbody>\n",
       "</table>\n",
       "</div>"
      ],
      "text/plain": [
       "      Marks\n",
       "stu4     87"
      ]
     },
     "execution_count": 40,
     "metadata": {},
     "output_type": "execute_result"
    }
   ],
   "source": [
    "df.loc[[False,False,False,True,False,False,False],[False,True,False]]"
   ]
  }
 ],
 "metadata": {
  "kernelspec": {
   "display_name": "Python 3",
   "language": "python",
   "name": "python3"
  },
  "language_info": {
   "codemirror_mode": {
    "name": "ipython",
    "version": 3
   },
   "file_extension": ".py",
   "mimetype": "text/x-python",
   "name": "python",
   "nbconvert_exporter": "python",
   "pygments_lexer": "ipython3",
   "version": "3.13.1"
  }
 },
 "nbformat": 4,
 "nbformat_minor": 5
}
