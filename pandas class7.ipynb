{
 "cells": [
  {
   "cell_type": "markdown",
   "id": "f421566a",
   "metadata": {},
   "source": [
    "HOW TO READ CSV,EXCEL & TSV FILES USING PANDAS "
   ]
  },
  {
   "cell_type": "markdown",
   "id": "ac4842ff",
   "metadata": {},
   "source": [
    "IN CSV"
   ]
  },
  {
   "cell_type": "code",
   "execution_count": 10,
   "id": "b82ff433",
   "metadata": {},
   "outputs": [
    {
     "name": "stdout",
     "output_type": "stream",
     "text": [
      "      Name  Marks Grades\n",
      "0  priyang     98     AA\n",
      "1   Aadhya     89     AB\n",
      "2  Krishna     99     AA\n",
      "3   vedant     87     AB\n",
      "4   Prshav     90     AC\n",
      "5   Mittal     83     BA\n",
      "6  Archana     82     BB\n"
     ]
    }
   ],
   "source": [
    "import pandas as pd\n",
    "df=pd.read_csv('filename.csv')\n",
    "print(df)"
   ]
  },
  {
   "cell_type": "markdown",
   "id": "9c6a7b57",
   "metadata": {},
   "source": [
    "like that tsv and excel "
   ]
  },
  {
   "cell_type": "markdown",
   "id": "f9e24121",
   "metadata": {},
   "source": [
    "Complete Postmortem of read_csv() "
   ]
  },
  {
   "cell_type": "markdown",
   "id": "a24e4af4",
   "metadata": {},
   "source": [
    "i want to read delinquency prediction datasetcsv then i check all downlaoad folders in below code"
   ]
  },
  {
   "cell_type": "code",
   "execution_count": 13,
   "id": "c6e4688f",
   "metadata": {},
   "outputs": [
    {
     "name": "stdout",
     "output_type": "stream",
     "text": [
      "C:\\Users\\gnane\\Downloads\\Delinquency_prediction_dataset.csv\n",
      "C:\\Users\\gnane\\Downloads\\SQL - Retail Sales Analysis_utf .csv\n",
      "C:\\Users\\gnane\\Downloads\\veUVPdMdnmrRJ1JRQrbE1741617161.csv\n"
     ]
    }
   ],
   "source": [
    "import glob\n",
    "\n",
    "files = glob.glob(r'C:\\Users\\gnane\\Downloads\\*.csv')\n",
    "for f in files:\n",
    "    print(f)\n"
   ]
  },
  {
   "cell_type": "markdown",
   "id": "3b22362a",
   "metadata": {},
   "source": [
    "so i select delinquency prediction dataset to read_csv code in below"
   ]
  },
  {
   "cell_type": "code",
   "execution_count": 14,
   "id": "5a1b1ee1",
   "metadata": {},
   "outputs": [
    {
     "name": "stdout",
     "output_type": "stream",
     "text": [
      "    Customer_ID  Age    Income  Credit_Score  Credit_Utilization  \\\n",
      "0      CUST0001   56  165580.0         398.0            0.390502   \n",
      "1      CUST0002   69  100999.0         493.0            0.312444   \n",
      "2      CUST0003   46  188416.0         500.0            0.359930   \n",
      "3      CUST0004   32  101672.0         413.0            0.371400   \n",
      "4      CUST0005   60   38524.0         487.0            0.234716   \n",
      "..          ...  ...       ...           ...                 ...   \n",
      "495    CUST0496   71   48307.0         688.0            0.486522   \n",
      "496    CUST0497   60   86180.0         836.0            0.608174   \n",
      "497    CUST0498   54  152326.0         847.0            0.676950   \n",
      "498    CUST0499   50  105852.0         343.0            0.700643   \n",
      "499    CUST0500   25   40945.0         442.0            0.911370   \n",
      "\n",
      "     Missed_Payments  Delinquent_Account  Loan_Balance  Debt_to_Income_Ratio  \\\n",
      "0                  3                   0       16310.0              0.317396   \n",
      "1                  6                   1       17401.0              0.196093   \n",
      "2                  0                   0       13761.0              0.301655   \n",
      "3                  3                   0       88778.0              0.264794   \n",
      "4                  2                   0       13316.0              0.510583   \n",
      "..               ...                 ...           ...                   ...   \n",
      "495                2                   0       12707.0              0.373033   \n",
      "496                2                   1       45595.0              0.291943   \n",
      "497                0                   0       44449.0              0.104839   \n",
      "498                2                   1       11155.0              0.236477   \n",
      "499                1                   0       36968.0              0.370422   \n",
      "\n",
      "    Employment_Status  Account_Tenure Credit_Card_Type     Location  Month_1  \\\n",
      "0                 EMP              18          Student  Los Angeles     Late   \n",
      "1       Self-employed               0         Standard      Phoenix   Missed   \n",
      "2       Self-employed               1         Platinum      Chicago   Missed   \n",
      "3          Unemployed              15         Platinum      Phoenix     Late   \n",
      "4       Self-employed              11         Standard      Phoenix   Missed   \n",
      "..                ...             ...              ...          ...      ...   \n",
      "495           retired               9         Business      Phoenix  On-time   \n",
      "496        Unemployed              18          Student      Houston  On-time   \n",
      "497          Employed              16          Student      Phoenix  On-time   \n",
      "498          Employed              11          Student      Phoenix     Late   \n",
      "499     Self-employed               0         Business      Houston   Missed   \n",
      "\n",
      "     Month_2 Month_3  Month_4  Month_5  Month_6  \n",
      "0       Late  Missed     Late   Missed     Late  \n",
      "1     Missed    Late   Missed  On-time  On-time  \n",
      "2       Late    Late  On-time   Missed     Late  \n",
      "3     Missed    Late   Missed     Late     Late  \n",
      "4    On-time  Missed     Late     Late     Late  \n",
      "..       ...     ...      ...      ...      ...  \n",
      "495  On-time  Missed  On-time  On-time     Late  \n",
      "496  On-time    Late     Late     Late   Missed  \n",
      "497     Late    Late  On-time     Late   Missed  \n",
      "498  On-time    Late   Missed  On-time   Missed  \n",
      "499     Late    Late  On-time     Late  On-time  \n",
      "\n",
      "[500 rows x 19 columns]\n"
     ]
    }
   ],
   "source": [
    "import pandas as pd\n",
    "\n",
    "df = pd.read_csv(r'C:\\Users\\gnane\\Downloads\\Delinquency_prediction_dataset.csv')\n",
    "print(df)"
   ]
  },
  {
   "cell_type": "markdown",
   "id": "69459910",
   "metadata": {},
   "source": [
    "1.N ROWS PARAMETER"
   ]
  },
  {
   "cell_type": "markdown",
   "id": "3113df37",
   "metadata": {},
   "source": [
    "N Rows Means: NO of Rows i want to print that my Data set"
   ]
  },
  {
   "cell_type": "code",
   "execution_count": 18,
   "id": "b019e99d",
   "metadata": {},
   "outputs": [
    {
     "name": "stdout",
     "output_type": "stream",
     "text": [
      "  Customer_ID  Age  Income  Credit_Score  Credit_Utilization  Missed_Payments  \\\n",
      "0    CUST0001   56  165580           398            0.390502                3   \n",
      "1    CUST0002   69  100999           493            0.312444                6   \n",
      "2    CUST0003   46  188416           500            0.359930                0   \n",
      "3    CUST0004   32  101672           413            0.371400                3   \n",
      "4    CUST0005   60   38524           487            0.234716                2   \n",
      "5    CUST0006   25   84042           700            0.650540                6   \n",
      "6    CUST0007   38   35056           354            0.390581                3   \n",
      "7    CUST0008   56  123215           415            0.532715                5   \n",
      "8    CUST0009   36   66991           405            0.413035                5   \n",
      "9    CUST0010   40   34870           679            0.361824                4   \n",
      "\n",
      "   Delinquent_Account  Loan_Balance  Debt_to_Income_Ratio Employment_Status  \\\n",
      "0                   0       16310.0              0.317396               EMP   \n",
      "1                   1       17401.0              0.196093     Self-employed   \n",
      "2                   0       13761.0              0.301655     Self-employed   \n",
      "3                   0       88778.0              0.264794        Unemployed   \n",
      "4                   0       13316.0              0.510583     Self-employed   \n",
      "5                   0       48361.0              0.260688        Unemployed   \n",
      "6                   0        4638.0              0.484265          employed   \n",
      "7                   0       55776.0              0.358695               EMP   \n",
      "8                   1           NaN              0.219854          Employed   \n",
      "9                   0       93922.0              0.333081               EMP   \n",
      "\n",
      "   Account_Tenure Credit_Card_Type     Location  Month_1  Month_2  Month_3  \\\n",
      "0              18          Student  Los Angeles     Late     Late   Missed   \n",
      "1               0         Standard      Phoenix   Missed   Missed     Late   \n",
      "2               1         Platinum      Chicago   Missed     Late     Late   \n",
      "3              15         Platinum      Phoenix     Late   Missed     Late   \n",
      "4              11         Standard      Phoenix   Missed  On-time   Missed   \n",
      "5               7             Gold     New York  On-time     Late   Missed   \n",
      "6              17         Platinum     New York  On-time   Missed   Missed   \n",
      "7               1          Student     New York  On-time  On-time  On-time   \n",
      "8              12          Student      Phoenix  On-time  On-time  On-time   \n",
      "9               5         Business  Los Angeles  On-time   Missed   Missed   \n",
      "\n",
      "   Month_4  Month_5  Month_6  \n",
      "0     Late   Missed     Late  \n",
      "1   Missed  On-time  On-time  \n",
      "2  On-time   Missed     Late  \n",
      "3   Missed     Late     Late  \n",
      "4     Late     Late     Late  \n",
      "5   Missed   Missed     Late  \n",
      "6     Late   Missed     Late  \n",
      "7     Late   Missed     Late  \n",
      "8   Missed     Late  On-time  \n",
      "9  On-time   Missed   Missed  \n"
     ]
    }
   ],
   "source": [
    "import pandas as pd\n",
    "df=pd.read_csv(r'C:\\Users\\gnane\\Downloads\\Delinquency_prediction_dataset.csv',nrows=10)\n",
    "print(df)"
   ]
  },
  {
   "cell_type": "markdown",
   "id": "2c3b873c",
   "metadata": {},
   "source": [
    "2.SKIP ROWS:i want to skip 2 rows"
   ]
  },
  {
   "cell_type": "code",
   "execution_count": 20,
   "id": "638be966",
   "metadata": {},
   "outputs": [
    {
     "name": "stdout",
     "output_type": "stream",
     "text": [
      "    Customer_ID  Age    Income  Credit_Score  Credit_Utilization  \\\n",
      "0      CUST0003   46  188416.0         500.0            0.359930   \n",
      "1      CUST0004   32  101672.0         413.0            0.371400   \n",
      "2      CUST0005   60   38524.0         487.0            0.234716   \n",
      "3      CUST0006   25   84042.0         700.0            0.650540   \n",
      "4      CUST0007   38   35056.0         354.0            0.390581   \n",
      "..          ...  ...       ...           ...                 ...   \n",
      "493    CUST0496   71   48307.0         688.0            0.486522   \n",
      "494    CUST0497   60   86180.0         836.0            0.608174   \n",
      "495    CUST0498   54  152326.0         847.0            0.676950   \n",
      "496    CUST0499   50  105852.0         343.0            0.700643   \n",
      "497    CUST0500   25   40945.0         442.0            0.911370   \n",
      "\n",
      "     Missed_Payments  Delinquent_Account  Loan_Balance  Debt_to_Income_Ratio  \\\n",
      "0                  0                   0       13761.0              0.301655   \n",
      "1                  3                   0       88778.0              0.264794   \n",
      "2                  2                   0       13316.0              0.510583   \n",
      "3                  6                   0       48361.0              0.260688   \n",
      "4                  3                   0        4638.0              0.484265   \n",
      "..               ...                 ...           ...                   ...   \n",
      "493                2                   0       12707.0              0.373033   \n",
      "494                2                   1       45595.0              0.291943   \n",
      "495                0                   0       44449.0              0.104839   \n",
      "496                2                   1       11155.0              0.236477   \n",
      "497                1                   0       36968.0              0.370422   \n",
      "\n",
      "    Employment_Status  Account_Tenure Credit_Card_Type  Location  Month_1  \\\n",
      "0       Self-employed               1         Platinum   Chicago   Missed   \n",
      "1          Unemployed              15         Platinum   Phoenix     Late   \n",
      "2       Self-employed              11         Standard   Phoenix   Missed   \n",
      "3          Unemployed               7             Gold  New York  On-time   \n",
      "4            employed              17         Platinum  New York  On-time   \n",
      "..                ...             ...              ...       ...      ...   \n",
      "493           retired               9         Business   Phoenix  On-time   \n",
      "494        Unemployed              18          Student   Houston  On-time   \n",
      "495          Employed              16          Student   Phoenix  On-time   \n",
      "496          Employed              11          Student   Phoenix     Late   \n",
      "497     Self-employed               0         Business   Houston   Missed   \n",
      "\n",
      "     Month_2 Month_3  Month_4  Month_5  Month_6  \n",
      "0       Late    Late  On-time   Missed     Late  \n",
      "1     Missed    Late   Missed     Late     Late  \n",
      "2    On-time  Missed     Late     Late     Late  \n",
      "3       Late  Missed   Missed   Missed     Late  \n",
      "4     Missed  Missed     Late   Missed     Late  \n",
      "..       ...     ...      ...      ...      ...  \n",
      "493  On-time  Missed  On-time  On-time     Late  \n",
      "494  On-time    Late     Late     Late   Missed  \n",
      "495     Late    Late  On-time     Late   Missed  \n",
      "496  On-time    Late   Missed  On-time   Missed  \n",
      "497     Late    Late  On-time     Late  On-time  \n",
      "\n",
      "[498 rows x 19 columns]\n"
     ]
    }
   ],
   "source": [
    "import pandas as pd\n",
    "df=pd.read_csv(r'C:\\Users\\gnane\\Downloads\\Delinquency_prediction_dataset.csv',skiprows=[1,2])\n",
    "print(df)"
   ]
  },
  {
   "cell_type": "markdown",
   "id": "e924846b",
   "metadata": {},
   "source": [
    "3.usecols:to load only specific columns"
   ]
  },
  {
   "cell_type": "markdown",
   "id": "be59c04f",
   "metadata": {},
   "source": [
    "(i)Load only select column names"
   ]
  },
  {
   "cell_type": "code",
   "execution_count": 23,
   "id": "e43070b7",
   "metadata": {},
   "outputs": [
    {
     "name": "stdout",
     "output_type": "stream",
     "text": [
      "    Customer_ID    Income  Missed_Payments\n",
      "0      CUST0001  165580.0                3\n",
      "1      CUST0002  100999.0                6\n",
      "2      CUST0003  188416.0                0\n",
      "3      CUST0004  101672.0                3\n",
      "4      CUST0005   38524.0                2\n",
      "..          ...       ...              ...\n",
      "495    CUST0496   48307.0                2\n",
      "496    CUST0497   86180.0                2\n",
      "497    CUST0498  152326.0                0\n",
      "498    CUST0499  105852.0                2\n",
      "499    CUST0500   40945.0                1\n",
      "\n",
      "[500 rows x 3 columns]\n"
     ]
    }
   ],
   "source": [
    "import pandas as pd\n",
    "df=pd.read_csv(r'C:\\Users\\gnane\\Downloads\\Delinquency_prediction_dataset.csv',usecols=['Customer_ID','Income','Missed_Payments'])\n",
    "print(df)"
   ]
  },
  {
   "cell_type": "markdown",
   "id": "21b59bd3",
   "metadata": {},
   "source": [
    "(ii) Load columns with index"
   ]
  },
  {
   "cell_type": "code",
   "execution_count": 24,
   "id": "13d5dc8f",
   "metadata": {},
   "outputs": [
    {
     "name": "stdout",
     "output_type": "stream",
     "text": [
      "    Customer_ID  Age    Income\n",
      "0      CUST0001   56  165580.0\n",
      "1      CUST0002   69  100999.0\n",
      "2      CUST0003   46  188416.0\n",
      "3      CUST0004   32  101672.0\n",
      "4      CUST0005   60   38524.0\n",
      "..          ...  ...       ...\n",
      "495    CUST0496   71   48307.0\n",
      "496    CUST0497   60   86180.0\n",
      "497    CUST0498   54  152326.0\n",
      "498    CUST0499   50  105852.0\n",
      "499    CUST0500   25   40945.0\n",
      "\n",
      "[500 rows x 3 columns]\n"
     ]
    }
   ],
   "source": [
    "import pandas as pd\n",
    "df=pd.read_csv(r'C:\\Users\\gnane\\Downloads\\Delinquency_prediction_dataset.csv',usecols=[0,1,2])\n",
    "print(df)"
   ]
  },
  {
   "cell_type": "markdown",
   "id": "2c9c1cce",
   "metadata": {},
   "source": [
    "(iii) combine  with n rows "
   ]
  },
  {
   "cell_type": "code",
   "execution_count": 25,
   "id": "a750ac1a",
   "metadata": {},
   "outputs": [
    {
     "name": "stdout",
     "output_type": "stream",
     "text": [
      "  Customer_ID  Age  Income  Credit_Score\n",
      "0    CUST0001   56  165580           398\n",
      "1    CUST0002   69  100999           493\n",
      "2    CUST0003   46  188416           500\n",
      "3    CUST0004   32  101672           413\n",
      "4    CUST0005   60   38524           487\n",
      "5    CUST0006   25   84042           700\n",
      "6    CUST0007   38   35056           354\n",
      "7    CUST0008   56  123215           415\n"
     ]
    }
   ],
   "source": [
    "import pandas as pd\n",
    "df=pd.read_csv(r'C:\\Users\\gnane\\Downloads\\Delinquency_prediction_dataset.csv',usecols=[0,1,2,3],nrows=8)\n",
    "print(df)"
   ]
  },
  {
   "cell_type": "markdown",
   "id": "9cdece64",
   "metadata": {},
   "source": [
    "INDEX_COL:Lets you set one (or more) columns as the index of your DataFrame while reading the CSV."
   ]
  },
  {
   "cell_type": "markdown",
   "id": "b56ce7fb",
   "metadata": {},
   "source": [
    "1.Using a column number as index"
   ]
  },
  {
   "cell_type": "code",
   "execution_count": 2,
   "id": "377a44e4",
   "metadata": {},
   "outputs": [
    {
     "name": "stdout",
     "output_type": "stream",
     "text": [
      "             Age    Income  Credit_Score  Credit_Utilization  Missed_Payments  \\\n",
      "Customer_ID                                                                     \n",
      "CUST0001      56  165580.0         398.0            0.390502                3   \n",
      "CUST0002      69  100999.0         493.0            0.312444                6   \n",
      "CUST0003      46  188416.0         500.0            0.359930                0   \n",
      "CUST0004      32  101672.0         413.0            0.371400                3   \n",
      "CUST0005      60   38524.0         487.0            0.234716                2   \n",
      "...          ...       ...           ...                 ...              ...   \n",
      "CUST0496      71   48307.0         688.0            0.486522                2   \n",
      "CUST0497      60   86180.0         836.0            0.608174                2   \n",
      "CUST0498      54  152326.0         847.0            0.676950                0   \n",
      "CUST0499      50  105852.0         343.0            0.700643                2   \n",
      "CUST0500      25   40945.0         442.0            0.911370                1   \n",
      "\n",
      "             Delinquent_Account  Loan_Balance  Debt_to_Income_Ratio  \\\n",
      "Customer_ID                                                           \n",
      "CUST0001                      0       16310.0              0.317396   \n",
      "CUST0002                      1       17401.0              0.196093   \n",
      "CUST0003                      0       13761.0              0.301655   \n",
      "CUST0004                      0       88778.0              0.264794   \n",
      "CUST0005                      0       13316.0              0.510583   \n",
      "...                         ...           ...                   ...   \n",
      "CUST0496                      0       12707.0              0.373033   \n",
      "CUST0497                      1       45595.0              0.291943   \n",
      "CUST0498                      0       44449.0              0.104839   \n",
      "CUST0499                      1       11155.0              0.236477   \n",
      "CUST0500                      0       36968.0              0.370422   \n",
      "\n",
      "            Employment_Status  Account_Tenure Credit_Card_Type     Location  \\\n",
      "Customer_ID                                                                   \n",
      "CUST0001                  EMP              18          Student  Los Angeles   \n",
      "CUST0002        Self-employed               0         Standard      Phoenix   \n",
      "CUST0003        Self-employed               1         Platinum      Chicago   \n",
      "CUST0004           Unemployed              15         Platinum      Phoenix   \n",
      "CUST0005        Self-employed              11         Standard      Phoenix   \n",
      "...                       ...             ...              ...          ...   \n",
      "CUST0496              retired               9         Business      Phoenix   \n",
      "CUST0497           Unemployed              18          Student      Houston   \n",
      "CUST0498             Employed              16          Student      Phoenix   \n",
      "CUST0499             Employed              11          Student      Phoenix   \n",
      "CUST0500        Self-employed               0         Business      Houston   \n",
      "\n",
      "             Month_1  Month_2 Month_3  Month_4  Month_5  Month_6  \n",
      "Customer_ID                                                       \n",
      "CUST0001        Late     Late  Missed     Late   Missed     Late  \n",
      "CUST0002      Missed   Missed    Late   Missed  On-time  On-time  \n",
      "CUST0003      Missed     Late    Late  On-time   Missed     Late  \n",
      "CUST0004        Late   Missed    Late   Missed     Late     Late  \n",
      "CUST0005      Missed  On-time  Missed     Late     Late     Late  \n",
      "...              ...      ...     ...      ...      ...      ...  \n",
      "CUST0496     On-time  On-time  Missed  On-time  On-time     Late  \n",
      "CUST0497     On-time  On-time    Late     Late     Late   Missed  \n",
      "CUST0498     On-time     Late    Late  On-time     Late   Missed  \n",
      "CUST0499        Late  On-time    Late   Missed  On-time   Missed  \n",
      "CUST0500      Missed     Late    Late  On-time     Late  On-time  \n",
      "\n",
      "[500 rows x 18 columns]\n"
     ]
    }
   ],
   "source": [
    "import pandas as pd\n",
    "\n",
    "df = pd.read_csv(r'C:\\Users\\gnane\\Downloads\\Delinquency_prediction_dataset.csv',index_col=0)\n",
    "print(df)"
   ]
  },
  {
   "cell_type": "markdown",
   "id": "795a0099",
   "metadata": {},
   "source": [
    "2.Using a column name as index"
   ]
  },
  {
   "cell_type": "code",
   "execution_count": 3,
   "id": "836d045c",
   "metadata": {},
   "outputs": [
    {
     "name": "stdout",
     "output_type": "stream",
     "text": [
      "    Customer_ID    Income  Credit_Score  Credit_Utilization  Missed_Payments  \\\n",
      "Age                                                                            \n",
      "56     CUST0001  165580.0         398.0            0.390502                3   \n",
      "69     CUST0002  100999.0         493.0            0.312444                6   \n",
      "46     CUST0003  188416.0         500.0            0.359930                0   \n",
      "32     CUST0004  101672.0         413.0            0.371400                3   \n",
      "60     CUST0005   38524.0         487.0            0.234716                2   \n",
      "..          ...       ...           ...                 ...              ...   \n",
      "71     CUST0496   48307.0         688.0            0.486522                2   \n",
      "60     CUST0497   86180.0         836.0            0.608174                2   \n",
      "54     CUST0498  152326.0         847.0            0.676950                0   \n",
      "50     CUST0499  105852.0         343.0            0.700643                2   \n",
      "25     CUST0500   40945.0         442.0            0.911370                1   \n",
      "\n",
      "     Delinquent_Account  Loan_Balance  Debt_to_Income_Ratio Employment_Status  \\\n",
      "Age                                                                             \n",
      "56                    0       16310.0              0.317396               EMP   \n",
      "69                    1       17401.0              0.196093     Self-employed   \n",
      "46                    0       13761.0              0.301655     Self-employed   \n",
      "32                    0       88778.0              0.264794        Unemployed   \n",
      "60                    0       13316.0              0.510583     Self-employed   \n",
      "..                  ...           ...                   ...               ...   \n",
      "71                    0       12707.0              0.373033           retired   \n",
      "60                    1       45595.0              0.291943        Unemployed   \n",
      "54                    0       44449.0              0.104839          Employed   \n",
      "50                    1       11155.0              0.236477          Employed   \n",
      "25                    0       36968.0              0.370422     Self-employed   \n",
      "\n",
      "     Account_Tenure Credit_Card_Type     Location  Month_1  Month_2 Month_3  \\\n",
      "Age                                                                           \n",
      "56               18          Student  Los Angeles     Late     Late  Missed   \n",
      "69                0         Standard      Phoenix   Missed   Missed    Late   \n",
      "46                1         Platinum      Chicago   Missed     Late    Late   \n",
      "32               15         Platinum      Phoenix     Late   Missed    Late   \n",
      "60               11         Standard      Phoenix   Missed  On-time  Missed   \n",
      "..              ...              ...          ...      ...      ...     ...   \n",
      "71                9         Business      Phoenix  On-time  On-time  Missed   \n",
      "60               18          Student      Houston  On-time  On-time    Late   \n",
      "54               16          Student      Phoenix  On-time     Late    Late   \n",
      "50               11          Student      Phoenix     Late  On-time    Late   \n",
      "25                0         Business      Houston   Missed     Late    Late   \n",
      "\n",
      "     Month_4  Month_5  Month_6  \n",
      "Age                             \n",
      "56      Late   Missed     Late  \n",
      "69    Missed  On-time  On-time  \n",
      "46   On-time   Missed     Late  \n",
      "32    Missed     Late     Late  \n",
      "60      Late     Late     Late  \n",
      "..       ...      ...      ...  \n",
      "71   On-time  On-time     Late  \n",
      "60      Late     Late   Missed  \n",
      "54   On-time     Late   Missed  \n",
      "50    Missed  On-time   Missed  \n",
      "25   On-time     Late  On-time  \n",
      "\n",
      "[500 rows x 18 columns]\n"
     ]
    }
   ],
   "source": [
    "import pandas as pd\n",
    "df=pd.read_csv(r'C:\\Users\\gnane\\Downloads\\Delinquency_prediction_dataset.csv',index_col='Age')\n",
    "print(df)"
   ]
  },
  {
   "cell_type": "code",
   "execution_count": 4,
   "id": "ac1c18b6",
   "metadata": {},
   "outputs": [
    {
     "name": "stdout",
     "output_type": "stream",
     "text": [
      "Index([56, 69, 46, 32, 60, 25, 38, 56, 36, 40,\n",
      "       ...\n",
      "       66, 69, 59, 23, 32, 71, 60, 54, 50, 25],\n",
      "      dtype='int64', name='Age', length=500)\n"
     ]
    }
   ],
   "source": [
    "print(df.index)   # see the index\n"
   ]
  },
  {
   "cell_type": "markdown",
   "id": "eb0fdb41",
   "metadata": {},
   "source": [
    "MUlTI-INDEX:to add one or more index to the data "
   ]
  },
  {
   "cell_type": "code",
   "execution_count": 5,
   "id": "c278f4e9",
   "metadata": {},
   "outputs": [
    {
     "name": "stdout",
     "output_type": "stream",
     "text": [
      "                   Income  Credit_Score  Credit_Utilization  Missed_Payments  \\\n",
      "Customer_ID Age                                                                \n",
      "CUST0001    56   165580.0         398.0            0.390502                3   \n",
      "CUST0002    69   100999.0         493.0            0.312444                6   \n",
      "CUST0003    46   188416.0         500.0            0.359930                0   \n",
      "CUST0004    32   101672.0         413.0            0.371400                3   \n",
      "CUST0005    60    38524.0         487.0            0.234716                2   \n",
      "...                   ...           ...                 ...              ...   \n",
      "CUST0496    71    48307.0         688.0            0.486522                2   \n",
      "CUST0497    60    86180.0         836.0            0.608174                2   \n",
      "CUST0498    54   152326.0         847.0            0.676950                0   \n",
      "CUST0499    50   105852.0         343.0            0.700643                2   \n",
      "CUST0500    25    40945.0         442.0            0.911370                1   \n",
      "\n",
      "                 Delinquent_Account  Loan_Balance  Debt_to_Income_Ratio  \\\n",
      "Customer_ID Age                                                           \n",
      "CUST0001    56                    0       16310.0              0.317396   \n",
      "CUST0002    69                    1       17401.0              0.196093   \n",
      "CUST0003    46                    0       13761.0              0.301655   \n",
      "CUST0004    32                    0       88778.0              0.264794   \n",
      "CUST0005    60                    0       13316.0              0.510583   \n",
      "...                             ...           ...                   ...   \n",
      "CUST0496    71                    0       12707.0              0.373033   \n",
      "CUST0497    60                    1       45595.0              0.291943   \n",
      "CUST0498    54                    0       44449.0              0.104839   \n",
      "CUST0499    50                    1       11155.0              0.236477   \n",
      "CUST0500    25                    0       36968.0              0.370422   \n",
      "\n",
      "                Employment_Status  Account_Tenure Credit_Card_Type  \\\n",
      "Customer_ID Age                                                      \n",
      "CUST0001    56                EMP              18          Student   \n",
      "CUST0002    69      Self-employed               0         Standard   \n",
      "CUST0003    46      Self-employed               1         Platinum   \n",
      "CUST0004    32         Unemployed              15         Platinum   \n",
      "CUST0005    60      Self-employed              11         Standard   \n",
      "...                           ...             ...              ...   \n",
      "CUST0496    71            retired               9         Business   \n",
      "CUST0497    60         Unemployed              18          Student   \n",
      "CUST0498    54           Employed              16          Student   \n",
      "CUST0499    50           Employed              11          Student   \n",
      "CUST0500    25      Self-employed               0         Business   \n",
      "\n",
      "                    Location  Month_1  Month_2 Month_3  Month_4  Month_5  \\\n",
      "Customer_ID Age                                                            \n",
      "CUST0001    56   Los Angeles     Late     Late  Missed     Late   Missed   \n",
      "CUST0002    69       Phoenix   Missed   Missed    Late   Missed  On-time   \n",
      "CUST0003    46       Chicago   Missed     Late    Late  On-time   Missed   \n",
      "CUST0004    32       Phoenix     Late   Missed    Late   Missed     Late   \n",
      "CUST0005    60       Phoenix   Missed  On-time  Missed     Late     Late   \n",
      "...                      ...      ...      ...     ...      ...      ...   \n",
      "CUST0496    71       Phoenix  On-time  On-time  Missed  On-time  On-time   \n",
      "CUST0497    60       Houston  On-time  On-time    Late     Late     Late   \n",
      "CUST0498    54       Phoenix  On-time     Late    Late  On-time     Late   \n",
      "CUST0499    50       Phoenix     Late  On-time    Late   Missed  On-time   \n",
      "CUST0500    25       Houston   Missed     Late    Late  On-time     Late   \n",
      "\n",
      "                 Month_6  \n",
      "Customer_ID Age           \n",
      "CUST0001    56      Late  \n",
      "CUST0002    69   On-time  \n",
      "CUST0003    46      Late  \n",
      "CUST0004    32      Late  \n",
      "CUST0005    60      Late  \n",
      "...                  ...  \n",
      "CUST0496    71      Late  \n",
      "CUST0497    60    Missed  \n",
      "CUST0498    54    Missed  \n",
      "CUST0499    50    Missed  \n",
      "CUST0500    25   On-time  \n",
      "\n",
      "[500 rows x 17 columns]\n"
     ]
    }
   ],
   "source": [
    "import pandas as pd\n",
    "df=pd.read_csv(r'C:\\Users\\gnane\\Downloads\\Delinquency_prediction_dataset.csv',index_col=[0,1])\n",
    "print(df)"
   ]
  },
  {
   "cell_type": "markdown",
   "id": "fe7647bc",
   "metadata": {},
   "source": [
    "CHUNK SIZE:When a CSV file is too large to fit in memory at once, you can read it in pieces (chunks).\n",
    "\n",
    "Each chunk will be a DataFrame of a fixed number of rows."
   ]
  },
  {
   "cell_type": "code",
   "execution_count": 3,
   "id": "8a2fe3d6",
   "metadata": {},
   "outputs": [
    {
     "name": "stdout",
     "output_type": "stream",
     "text": [
      "<pandas.io.parsers.readers.TextFileReader object at 0x000001BDBCCF5310>\n",
      "Chunk 1\n",
      "  Customer_ID  Age  Income  Credit_Score  Credit_Utilization  Missed_Payments  \\\n",
      "0    CUST0001   56  165580           398            0.390502                3   \n",
      "1    CUST0002   69  100999           493            0.312444                6   \n",
      "2    CUST0003   46  188416           500            0.359930                0   \n",
      "3    CUST0004   32  101672           413            0.371400                3   \n",
      "4    CUST0005   60   38524           487            0.234716                2   \n",
      "5    CUST0006   25   84042           700            0.650540                6   \n",
      "6    CUST0007   38   35056           354            0.390581                3   \n",
      "7    CUST0008   56  123215           415            0.532715                5   \n",
      "8    CUST0009   36   66991           405            0.413035                5   \n",
      "9    CUST0010   40   34870           679            0.361824                4   \n",
      "\n",
      "   Delinquent_Account  Loan_Balance  Debt_to_Income_Ratio Employment_Status  \\\n",
      "0                   0       16310.0              0.317396               EMP   \n",
      "1                   1       17401.0              0.196093     Self-employed   \n",
      "2                   0       13761.0              0.301655     Self-employed   \n",
      "3                   0       88778.0              0.264794        Unemployed   \n",
      "4                   0       13316.0              0.510583     Self-employed   \n",
      "5                   0       48361.0              0.260688        Unemployed   \n",
      "6                   0        4638.0              0.484265          employed   \n",
      "7                   0       55776.0              0.358695               EMP   \n",
      "8                   1           NaN              0.219854          Employed   \n",
      "9                   0       93922.0              0.333081               EMP   \n",
      "\n",
      "   Account_Tenure Credit_Card_Type     Location  Month_1  Month_2  Month_3  \\\n",
      "0              18          Student  Los Angeles     Late     Late   Missed   \n",
      "1               0         Standard      Phoenix   Missed   Missed     Late   \n",
      "2               1         Platinum      Chicago   Missed     Late     Late   \n",
      "3              15         Platinum      Phoenix     Late   Missed     Late   \n",
      "4              11         Standard      Phoenix   Missed  On-time   Missed   \n",
      "5               7             Gold     New York  On-time     Late   Missed   \n",
      "6              17         Platinum     New York  On-time   Missed   Missed   \n",
      "7               1          Student     New York  On-time  On-time  On-time   \n",
      "8              12          Student      Phoenix  On-time  On-time  On-time   \n",
      "9               5         Business  Los Angeles  On-time   Missed   Missed   \n",
      "\n",
      "   Month_4  Month_5  Month_6  \n",
      "0     Late   Missed     Late  \n",
      "1   Missed  On-time  On-time  \n",
      "2  On-time   Missed     Late  \n",
      "3   Missed     Late     Late  \n",
      "4     Late     Late     Late  \n",
      "5   Missed   Missed     Late  \n",
      "6     Late   Missed     Late  \n",
      "7     Late   Missed     Late  \n",
      "8   Missed     Late  On-time  \n",
      "9  On-time   Missed   Missed  \n"
     ]
    }
   ],
   "source": [
    "import pandas as pd\n",
    "chunks=pd.read_csv(r'C:\\Users\\gnane\\Downloads\\Delinquency_prediction_dataset.csv',chunksize=10)\n",
    "print(chunks)\n",
    "for i, chunk in enumerate(chunks):   # enumerate gives chunk number\n",
    "    print(f\"Chunk {i+1}\")\n",
    "    print(chunk)\n",
    "    break  "
   ]
  },
  {
   "cell_type": "markdown",
   "id": "6091e91c",
   "metadata": {},
   "source": [
    "Concatenate chunks back\n",
    "\n",
    "If you want to read chunks, process them, then combine:"
   ]
  },
  {
   "cell_type": "code",
   "execution_count": 4,
   "id": "ad8bcf8a",
   "metadata": {},
   "outputs": [
    {
     "name": "stdout",
     "output_type": "stream",
     "text": [
      "    Customer_ID  Age    Income  Credit_Score  Credit_Utilization  \\\n",
      "0      CUST0001   56  165580.0         398.0            0.390502   \n",
      "1      CUST0002   69  100999.0         493.0            0.312444   \n",
      "2      CUST0003   46  188416.0         500.0            0.359930   \n",
      "3      CUST0004   32  101672.0         413.0            0.371400   \n",
      "4      CUST0005   60   38524.0         487.0            0.234716   \n",
      "..          ...  ...       ...           ...                 ...   \n",
      "495    CUST0496   71   48307.0         688.0            0.486522   \n",
      "496    CUST0497   60   86180.0         836.0            0.608174   \n",
      "497    CUST0498   54  152326.0         847.0            0.676950   \n",
      "498    CUST0499   50  105852.0         343.0            0.700643   \n",
      "499    CUST0500   25   40945.0         442.0            0.911370   \n",
      "\n",
      "     Missed_Payments  Delinquent_Account  Loan_Balance  Debt_to_Income_Ratio  \\\n",
      "0                  3                   0       16310.0              0.317396   \n",
      "1                  6                   1       17401.0              0.196093   \n",
      "2                  0                   0       13761.0              0.301655   \n",
      "3                  3                   0       88778.0              0.264794   \n",
      "4                  2                   0       13316.0              0.510583   \n",
      "..               ...                 ...           ...                   ...   \n",
      "495                2                   0       12707.0              0.373033   \n",
      "496                2                   1       45595.0              0.291943   \n",
      "497                0                   0       44449.0              0.104839   \n",
      "498                2                   1       11155.0              0.236477   \n",
      "499                1                   0       36968.0              0.370422   \n",
      "\n",
      "    Employment_Status  Account_Tenure Credit_Card_Type     Location  Month_1  \\\n",
      "0                 EMP              18          Student  Los Angeles     Late   \n",
      "1       Self-employed               0         Standard      Phoenix   Missed   \n",
      "2       Self-employed               1         Platinum      Chicago   Missed   \n",
      "3          Unemployed              15         Platinum      Phoenix     Late   \n",
      "4       Self-employed              11         Standard      Phoenix   Missed   \n",
      "..                ...             ...              ...          ...      ...   \n",
      "495           retired               9         Business      Phoenix  On-time   \n",
      "496        Unemployed              18          Student      Houston  On-time   \n",
      "497          Employed              16          Student      Phoenix  On-time   \n",
      "498          Employed              11          Student      Phoenix     Late   \n",
      "499     Self-employed               0         Business      Houston   Missed   \n",
      "\n",
      "     Month_2 Month_3  Month_4  Month_5  Month_6  \n",
      "0       Late  Missed     Late   Missed     Late  \n",
      "1     Missed    Late   Missed  On-time  On-time  \n",
      "2       Late    Late  On-time   Missed     Late  \n",
      "3     Missed    Late   Missed     Late     Late  \n",
      "4    On-time  Missed     Late     Late     Late  \n",
      "..       ...     ...      ...      ...      ...  \n",
      "495  On-time  Missed  On-time  On-time     Late  \n",
      "496  On-time    Late     Late     Late   Missed  \n",
      "497     Late    Late  On-time     Late   Missed  \n",
      "498  On-time    Late   Missed  On-time   Missed  \n",
      "499     Late    Late  On-time     Late  On-time  \n",
      "\n",
      "[500 rows x 19 columns]\n"
     ]
    }
   ],
   "source": [
    "import pandas as pd\n",
    "chunks=pd.read_csv(r'C:\\Users\\gnane\\Downloads\\Delinquency_prediction_dataset.csv',chunksize=10)\n",
    "df=pd.concat(chunks)\n",
    "print(df)"
   ]
  }
 ],
 "metadata": {
  "kernelspec": {
   "display_name": "Python 3",
   "language": "python",
   "name": "python3"
  },
  "language_info": {
   "codemirror_mode": {
    "name": "ipython",
    "version": 3
   },
   "file_extension": ".py",
   "mimetype": "text/x-python",
   "name": "python",
   "nbconvert_exporter": "python",
   "pygments_lexer": "ipython3",
   "version": "3.13.1"
  }
 },
 "nbformat": 4,
 "nbformat_minor": 5
}
