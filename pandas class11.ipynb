{
 "cells": [
  {
   "cell_type": "markdown",
   "id": "736df64f",
   "metadata": {},
   "source": [
    "MERGE (): IT IS USED TO COMBINE '2' DATA FRAMES"
   ]
  },
  {
   "cell_type": "code",
   "execution_count": 3,
   "id": "4230e4c2",
   "metadata": {},
   "outputs": [
    {
     "name": "stdout",
     "output_type": "stream",
     "text": [
      "  Key     Name\n",
      "0  K0  Priyang\n",
      "1  K1   Aadhya\n",
      "2  K2   Vedant\n",
      "3  K3   parshv\n",
      "4  K4  krishna   Key  Marks\n",
      "0  K0     98\n",
      "1  K1     99\n",
      "2  K2     89\n",
      "3  K3     85\n",
      "4  K4     87\n"
     ]
    }
   ],
   "source": [
    "import pandas as pd\n",
    "d={'Key':['K0','K1','K2','K3','K4'],\n",
    "   'Name':['Priyang','Aadhya','Vedant','parshv','krishna']}\n",
    "d1={'Key':['K0','K1','K2','K3','K4'],\n",
    "    'Marks':[98,99,89,85,87]}\n",
    "\n",
    "df=pd.DataFrame(d)\n",
    "df1=pd.DataFrame(d1)\n",
    "print(df,df1)"
   ]
  },
  {
   "cell_type": "markdown",
   "id": "1acb15fb",
   "metadata": {},
   "source": [
    "* Now i want to merge 2 tables df as right column and dfl as left column"
   ]
  },
  {
   "cell_type": "code",
   "execution_count": 9,
   "id": "3a1d15f4",
   "metadata": {},
   "outputs": [
    {
     "name": "stdout",
     "output_type": "stream",
     "text": [
      "  Key     Name  Marks\n",
      "0  K0  Priyang     98\n",
      "1  K1   Aadhya     99\n",
      "2  K2   Vedant     89\n",
      "3  K3   parshv     85\n",
      "4  K4  krishna     87\n"
     ]
    }
   ],
   "source": [
    "merged_df=df.merge(df1,on='Key')\n",
    "print(merged_df)"
   ]
  },
  {
   "cell_type": "code",
   "execution_count": 16,
   "id": "5fe74cdf",
   "metadata": {},
   "outputs": [
    {
     "name": "stdout",
     "output_type": "stream",
     "text": [
      "  Key     Name\n",
      "0  K0  Priyang\n",
      "1  K1   Aadhya\n",
      "2  K2   Vedant\n",
      "3  K5   parshv\n",
      "4  K6  krishna   Key  Marks\n",
      "0  K0     98\n",
      "1  K1     99\n",
      "2  K2     89\n",
      "3  K3     85\n",
      "4  K4     87\n"
     ]
    }
   ],
   "source": [
    "import pandas as pd\n",
    "d1={'Key':['K0','K1','K2','K5','K6'],\n",
    "   'Name':['Priyang','Aadhya','Vedant','parshv','krishna']}\n",
    "d2={'Key':['K0','K1','K2','K3','K4'],\n",
    "    'Marks':[98,99,89,85,87]}\n",
    "df1=pd.DataFrame(d1)\n",
    "df2=pd.DataFrame(d2)\n",
    "print(df1,df2)"
   ]
  },
  {
   "cell_type": "markdown",
   "id": "fdcfdffe",
   "metadata": {},
   "source": [
    "1.inner merge:"
   ]
  },
  {
   "cell_type": "code",
   "execution_count": 18,
   "id": "d764a63e",
   "metadata": {},
   "outputs": [
    {
     "name": "stdout",
     "output_type": "stream",
     "text": [
      "  Key     Name  Marks\n",
      "0  K0  Priyang     98\n",
      "1  K1   Aadhya     99\n",
      "2  K2   Vedant     89\n"
     ]
    }
   ],
   "source": [
    "inner=pd.merge(df1,df2,on='Key',how='inner')\n",
    "print(inner)"
   ]
  },
  {
   "cell_type": "markdown",
   "id": "15248244",
   "metadata": {},
   "source": [
    "2.left merge:"
   ]
  },
  {
   "cell_type": "code",
   "execution_count": 19,
   "id": "ea96fc81",
   "metadata": {},
   "outputs": [
    {
     "name": "stdout",
     "output_type": "stream",
     "text": [
      "  Key     Name  Marks\n",
      "0  K0  Priyang   98.0\n",
      "1  K1   Aadhya   99.0\n",
      "2  K2   Vedant   89.0\n",
      "3  K5   parshv    NaN\n",
      "4  K6  krishna    NaN\n"
     ]
    }
   ],
   "source": [
    "left=pd.merge(df1,df2,on='Key',how='left')\n",
    "print(left)"
   ]
  },
  {
   "cell_type": "markdown",
   "id": "eb945633",
   "metadata": {},
   "source": [
    "3.right merge:"
   ]
  },
  {
   "cell_type": "code",
   "execution_count": 20,
   "id": "571fb84c",
   "metadata": {},
   "outputs": [
    {
     "name": "stdout",
     "output_type": "stream",
     "text": [
      "  Key     Name  Marks\n",
      "0  K0  Priyang     98\n",
      "1  K1   Aadhya     99\n",
      "2  K2   Vedant     89\n",
      "3  K3      NaN     85\n",
      "4  K4      NaN     87\n"
     ]
    }
   ],
   "source": [
    "right=pd.merge(df1,df2,on='Key',how='right')\n",
    "print(right)"
   ]
  },
  {
   "cell_type": "markdown",
   "id": "b70ea2c8",
   "metadata": {},
   "source": [
    "CONCAT PANDAS:\n"
   ]
  },
  {
   "cell_type": "markdown",
   "id": "903633a3",
   "metadata": {},
   "source": [
    "concat series:"
   ]
  },
  {
   "cell_type": "code",
   "execution_count": null,
   "id": "135f271a",
   "metadata": {},
   "outputs": [
    {
     "name": "stdout",
     "output_type": "stream",
     "text": [
      "0    1\n",
      "1    2\n",
      "2    3\n",
      "Name: A, dtype: int64 0    4\n",
      "1    5\n",
      "2    6\n",
      "Name: B, dtype: int64\n"
     ]
    }
   ],
   "source": [
    "import pandas as pd\n",
    "s1=pd.Series([1,2,3],name='A')\n",
    "s2=pd.Series([4,5,6],name='B')\n",
    "print(s1,s2)"
   ]
  },
  {
   "cell_type": "code",
   "execution_count": 9,
   "id": "db73a99d",
   "metadata": {},
   "outputs": [
    {
     "name": "stdout",
     "output_type": "stream",
     "text": [
      "0    1\n",
      "1    2\n",
      "2    3\n",
      "0    4\n",
      "1    5\n",
      "2    6\n",
      "dtype: int64\n"
     ]
    }
   ],
   "source": [
    "import pandas as pd\n",
    "r=pd.concat([s1,s2])\n",
    "print(r)# vertically  concat it is default\n"
   ]
  },
  {
   "cell_type": "code",
   "execution_count": 10,
   "id": "ad2dc104",
   "metadata": {},
   "outputs": [
    {
     "name": "stdout",
     "output_type": "stream",
     "text": [
      "   A  B\n",
      "0  1  4\n",
      "1  2  5\n",
      "2  3  6\n"
     ]
    }
   ],
   "source": [
    "import pandas as pd\n",
    "r1=pd.concat([s1,s2],axis=1)\n",
    "print(r1)"
   ]
  },
  {
   "cell_type": "markdown",
   "id": "51d96b9d",
   "metadata": {},
   "source": [
    "CONCAT DATA FRAME:"
   ]
  },
  {
   "cell_type": "code",
   "execution_count": 11,
   "id": "46c5d969",
   "metadata": {},
   "outputs": [
    {
     "name": "stdout",
     "output_type": "stream",
     "text": [
      "      Name  Marks\n",
      "0  Priyang     98\n",
      "1   Aadhya     99\n",
      "2   Vedant     89\n",
      "3   Parshv     85\n",
      "4   krisha     87      Name  Marks\n",
      "0   Rahul     98\n",
      "1    Anil     99\n",
      "2  Paresh     89\n"
     ]
    }
   ],
   "source": [
    "import pandas as pd\n",
    "d1={'Name':['Priyang','Aadhya','Vedant','Parshv','krisha'],\n",
    "   'Marks':[98,99,89,85,87]}\n",
    "d2={'Name':['Rahul','Anil','Paresh'],'Marks':[98,99,89]}\n",
    "df1=pd.DataFrame(d1)\n",
    "df2=pd.DataFrame(d2)\n",
    "print(df1,df2)\n"
   ]
  },
  {
   "cell_type": "code",
   "execution_count": null,
   "id": "db00999a",
   "metadata": {},
   "outputs": [
    {
     "name": "stdout",
     "output_type": "stream",
     "text": [
      "      Name  Marks\n",
      "0  Priyang     98\n",
      "1   Aadhya     99\n",
      "2   Vedant     89\n",
      "3   Parshv     85\n",
      "4   krisha     87\n",
      "0    Rahul     98\n",
      "1     Anil     99\n",
      "2   Paresh     89\n"
     ]
    }
   ],
   "source": [
    "import pandas as pd\n",
    "row_wise=pd.concat([df1,df2]) # row wise concate\n",
    "print(row_wise)"
   ]
  },
  {
   "cell_type": "code",
   "execution_count": 14,
   "id": "e5933f1e",
   "metadata": {},
   "outputs": [
    {
     "name": "stdout",
     "output_type": "stream",
     "text": [
      "      Name  Marks    Name  Marks\n",
      "0  Priyang     98   Rahul   98.0\n",
      "1   Aadhya     99    Anil   99.0\n",
      "2   Vedant     89  Paresh   89.0\n",
      "3   Parshv     85     NaN    NaN\n",
      "4   krisha     87     NaN    NaN\n"
     ]
    }
   ],
   "source": [
    "import pandas as pd\n",
    "col_wise=pd.concat([df1,df2],axis=1)\n",
    "print(col_wise)"
   ]
  },
  {
   "cell_type": "markdown",
   "id": "8c5b87cb",
   "metadata": {},
   "source": []
  }
 ],
 "metadata": {
  "kernelspec": {
   "display_name": "Python 3",
   "language": "python",
   "name": "python3"
  },
  "language_info": {
   "codemirror_mode": {
    "name": "ipython",
    "version": 3
   },
   "file_extension": ".py",
   "mimetype": "text/x-python",
   "name": "python",
   "nbconvert_exporter": "python",
   "pygments_lexer": "ipython3",
   "version": "3.13.1"
  }
 },
 "nbformat": 4,
 "nbformat_minor": 5
}
